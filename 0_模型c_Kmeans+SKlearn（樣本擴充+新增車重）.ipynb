{
 "cells": [
  {
   "cell_type": "raw",
   "metadata": {},
   "source": [
    "import pandas as pd\n",
    "import numpy as np\n",
    "from sklearn.linear_model import LinearRegression\n",
    "from sklearn.model_selection import cross_val_score  # 交互驗證\n",
    "from sklearn.linear_model import Lasso  # 套索迴歸套件"
   ]
  },
  {
   "cell_type": "raw",
   "metadata": {},
   "source": [
    "df = pd.read_csv(\"Kmeans_output_file.csv\")"
   ]
  },
  {
   "cell_type": "raw",
   "metadata": {},
   "source": [
    "def find_best(X, y):\n",
    "    best_score = 0\n",
    "    for i in range(1, 20, 1):\n",
    "        lm_lasso = Lasso(alpha = i-0.9, max_iter = 1000000)\n",
    "        if cross_val_score(lm_lasso, X, y, cv = 4).mean() > best_score:\n",
    "            best_score = cross_val_score(lm_lasso, X, y, cv = 4).mean()\n",
    "            best_i = i-0.9\n",
    "    best_range = [best_i-1.999, best_i+1.999]\n",
    "    print(best_range)###\n",
    "    \n",
    "    if best_range[0] <= 0:\n",
    "        narrow_i = 0.01\n",
    "    else:\n",
    "        narrow_i = best_range[0]\n",
    "\n",
    "    global best_i2\n",
    "    best_score2 = 0    \n",
    "    while narrow_i <= best_range[1]:   \n",
    "        # 建立Lasso回歸式，懲罰係數α\n",
    "        lm_lasso = Lasso(alpha = narrow_i, max_iter = 1000000) \n",
    "        print(narrow_i, cross_val_score(lm_lasso, X, y, cv = 4).mean())\n",
    "        if cross_val_score(lm_lasso, X, y, cv = 4).mean() > best_score2:\n",
    "            best_score2 = cross_val_score(lm_lasso, X, y, cv = 4).mean()  \n",
    "            best_i2 = narrow_i\n",
    "            best_lasso_model = lm_lasso.fit(X, y)\n",
    "\n",
    "        narrow_i += 0.01\n",
    "    print(best_i2, best_score2) \n",
    "    best_i2 = best_score2\n",
    "    # 获取非零系数的列名\n",
    "    selected_features = X.columns[best_lasso_model.coef_ != 0]\n",
    "\n",
    "    # 打印所选自变量\n",
    "    print(\"Selected features:\", selected_features)\n",
    "    \n",
    "from sklearn.model_selection import learning_curve\n",
    "\n",
    "def plot_learning_curve(estimator, title, X, y, ylim=None, cv=None, n_jobs=1, train_sizes=np.linspace(.1, 1.0, 5)):\n",
    "    plt.figure()\n",
    "    plt.title(title)\n",
    "    if ylim is not None:\n",
    "        plt.ylim(*ylim)\n",
    "    plt.xlabel(\"Training examples\")\n",
    "    plt.ylabel(\"Score\")\n",
    "    train_sizes, train_scores, test_scores = learning_curve(\n",
    "        estimator, X, y, cv=cv, n_jobs=n_jobs, train_sizes=train_sizes)\n",
    "    train_scores_mean = np.mean(train_scores, axis=1)\n",
    "    train_scores_std = np.std(train_scores, axis=1)\n",
    "    test_scores_mean = np.mean(test_scores, axis=1)\n",
    "    test_scores_std = np.std(test_scores, axis=1)\n",
    "    plt.grid()\n",
    "\n",
    "    plt.fill_between(train_sizes, train_scores_mean - train_scores_std,\n",
    "                     train_scores_mean + train_scores_std, alpha=0.1,\n",
    "                     color=\"r\")\n",
    "    plt.fill_between(train_sizes, test_scores_mean - test_scores_std,\n",
    "                     test_scores_mean + test_scores_std, alpha=0.1, color=\"g\")\n",
    "    plt.plot(train_sizes, train_scores_mean, 'o-', color=\"r\",\n",
    "             label=\"Training score\")\n",
    "    plt.plot(train_sizes, test_scores_mean, 'o-', color=\"g\",\n",
    "             label=\"Cross-validation score\")\n",
    "\n",
    "    plt.legend(loc=\"best\")\n",
    "    return plt\n"
   ]
  },
  {
   "cell_type": "raw",
   "metadata": {},
   "source": [
    "'''不納入油耗數據'''\n",
    "X = df.drop([\"co2emissionsgkm\", \"make\", \"model\", \"car_or_truck\", \"vehicleclass\", \"transmission\",\n",
    "             \"fuelconsumptioncityl100km\",\"fuelconsumptionhwyl100km\", \"fuelconsumptioncombl100km\", \n",
    "             \"fuelconsumptioncombmpg\", \"co2rating\", \"smograting\", \"carnumber\"], axis = 1)\n",
    "y = df[\"co2emissionsgkm\"]\n",
    "\n",
    "# 建立基本迴歸式用以比較\n",
    "lm_basic = LinearRegression() # 使用全部自變數\n",
    "print(cross_val_score(lm_basic, X, y, cv = 4).mean()) \n",
    "\n",
    "find_best(X, y)\n",
    "\n"
   ]
  },
  {
   "cell_type": "raw",
   "metadata": {},
   "source": [
    "lm_lasso = Lasso(alpha=best_i2, max_iter=1000000)\n",
    "import matplotlib.pyplot as plt\n",
    "# 繪製學習曲線\n",
    "title = \"Learning Curves (Lasso Regression)\"\n",
    "plot_learning_curve(lm_lasso, title, X, y, cv=4, ylim=(0.0, 1.01), n_jobs=1)\n",
    "\n",
    "plt.show()"
   ]
  },
  {
   "cell_type": "code",
   "execution_count": 1,
   "metadata": {},
   "outputs": [
    {
     "name": "stderr",
     "output_type": "stream",
     "text": [
      "D:\\Anaconda\\lib\\site-packages\\joblib\\externals\\loky\\backend\\context.py:136: UserWarning: Could not find the number of physical cores for the following reason:\n",
      "found 0 physical cores < 1\n",
      "Returning the number of logical cores instead. You can silence this warning by setting LOKY_MAX_CPU_COUNT to the number of cores you want to use.\n",
      "  warnings.warn(\n",
      "  File \"D:\\Anaconda\\lib\\site-packages\\joblib\\externals\\loky\\backend\\context.py\", line 282, in _count_physical_cores\n",
      "    raise ValueError(f\"found {cpu_count_physical} physical cores < 1\")\n"
     ]
    },
    {
     "name": "stdout",
     "output_type": "stream",
     "text": [
      "R^2 = 0.70\n"
     ]
    },
    {
     "data": {
      "image/png": "[encoded data removed]",
      "text/plain": [
       "<Figure size 432x288 with 1 Axes>"
      ]
     },
     "metadata": {
      "needs_background": "light"
     },
     "output_type": "display_data"
    }
   ],
   "source": [
    "# 資料處理套件\n",
    "import pandas as pd\n",
    "\n",
    "# 讀取資料\n",
    "df_car = pd.read_csv('1_Car_Curb_Weight_Training.csv') \n",
    "df_truck = pd.read_csv('1_Truck_Curb_Weight_Training.csv') \n",
    "\n",
    "df_combined = pd.concat([df_car, df_truck], ignore_index=True)\n",
    "\n",
    "# ML套件\n",
    "from sklearn.cluster import KMeans\n",
    "from sklearn.linear_model import Lasso\n",
    "from sklearn.model_selection import learning_curve\n",
    "import numpy as np\n",
    "import matplotlib.pyplot as plt\n",
    "\n",
    "def kmeans_(df):\n",
    "    included = ['Engine Size(L)', 'Cylinders', 'weight']\n",
    "    X = df[included]\n",
    "\n",
    "    model = KMeans(n_clusters=5, n_init='auto', random_state=1)\n",
    "    model.fit(X)\n",
    "    \n",
    "    df['Cluster'] = model.labels_\n",
    "    \n",
    "    return df\n",
    "\n",
    "df_combined = kmeans_(df_combined)\n",
    "\n",
    "def first_step_training(df):\n",
    "    X = df[['Engine Size(L)', 'Cylinders','Cluster', 'weight']]\n",
    "    y = df['CO2 Emissions(g/km)']\n",
    "    \n",
    "    model = Lasso(alpha=1.0)  # You can adjust the alpha parameter based on your needs\n",
    "    \n",
    "    model.fit(X, y)\n",
    "    \n",
    "    y_pred = model.predict(X)\n",
    "    \n",
    "    X_filtered = df[['Engine Size(L)', 'Cylinders','Cluster', 'weight']]\n",
    "    y_filtered = df['CO2 Emissions(g/km)']\n",
    "    \n",
    "    return model, X_filtered, y_filtered\n",
    "\n",
    "def second_step_training(model, X_filtered, y_filtered):\n",
    "    # Lasso model does not require a second step with studentized data\n",
    "    return model\n",
    "\n",
    "lasso_model, X_filtered, y_filtered = first_step_training(df_combined)\n",
    "final_model = second_step_training(lasso_model, X_filtered, y_filtered)\n",
    "\n",
    "def plot_learning_curve_r2(estimator, title, X, y, ylim=None, cv=None, n_jobs=1, train_sizes=np.linspace(.1, 1.0, 5)):\n",
    "    plt.figure()\n",
    "    plt.title(title)\n",
    "    if ylim is not None:\n",
    "        plt.ylim(*ylim)\n",
    "    plt.xlabel(\"Training examples\")\n",
    "    plt.ylabel(\"R^2\")\n",
    "    train_sizes, train_scores, test_scores = learning_curve(\n",
    "        estimator, X, y, cv=cv, scoring='r2', n_jobs=n_jobs, train_sizes=train_sizes)\n",
    "    train_scores_mean = np.mean(train_scores, axis=1)\n",
    "    train_scores_std = np.std(train_scores, axis=1)\n",
    "    test_scores_mean = np.mean(test_scores, axis=1)\n",
    "    test_scores_std = np.std(test_scores, axis=1)\n",
    "    plt.grid()\n",
    "\n",
    "    plt.fill_between(train_sizes, train_scores_mean - train_scores_std,\n",
    "                     train_scores_mean + train_scores_std, alpha=0.1, color=\"#8737ED\")  # Purple color\n",
    "    plt.fill_between(train_sizes, test_scores_mean - test_scores_std,\n",
    "                     test_scores_mean + test_scores_std, alpha=0.1, color=\"#0091DA\")  # Blue color\n",
    "    plt.plot(train_sizes, train_scores_mean, 'o-', color=\"#8737ED\",  # Purple color\n",
    "             label=\"Training R^2\")\n",
    "    plt.plot(train_sizes, test_scores_mean, 'o-', color=\"#0091DA\",  # Blue color\n",
    "             label=\"Cross-validation R^2\")\n",
    "\n",
    "    # Get the rightmost point\n",
    "    rightmost_point = (train_sizes[-1], test_scores_mean[-1])\n",
    "    print(f'R^2 = {rightmost_point[1]:.2f}')\n",
    "\n",
    "    plt.legend(loc=\"best\")\n",
    "    return plt\n",
    "\n",
    "title_second_stage = \"Learning Curves (Lasso Regression)\"\n",
    "plot_learning_curve_r2(final_model, title_second_stage, X_filtered, y_filtered, cv=5, ylim=(0.0, 1.01), n_jobs=1)\n",
    "\n",
    "plt.show()\n"
   ]
  },
  {
   "cell_type": "code",
   "execution_count": null,
   "metadata": {},
   "outputs": [],
   "source": []
  },
  {
   "cell_type": "code",
   "execution_count": null,
   "metadata": {},
   "outputs": [],
   "source": []
  }
 ],
 "metadata": {
  "kernelspec": {
   "display_name": "Python 3",
   "language": "python",
   "name": "python3"
  },
  "language_info": {
   "codemirror_mode": {
    "name": "ipython",
    "version": 3
   },
   "file_extension": ".py",
   "mimetype": "text/x-python",
   "name": "python",
   "nbconvert_exporter": "python",
   "pygments_lexer": "ipython3",
   "version": "3.8.3"
  }
 },
 "nbformat": 4,
 "nbformat_minor": 4
}
