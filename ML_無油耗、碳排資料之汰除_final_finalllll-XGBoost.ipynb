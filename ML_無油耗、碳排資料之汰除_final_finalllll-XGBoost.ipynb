{
 "cells": [
  {
   "cell_type": "markdown",
   "metadata": {},
   "source": [
    "# GUI_匯入企業資料，選擇目標"
   ]
  },
  {
   "cell_type": "code",
   "execution_count": 1,
   "metadata": {},
   "outputs": [
    {
     "name": "stdout",
     "output_type": "stream",
     "text": [
      "選擇的 Class: Make\n",
      "填寫%: 20.0 填寫數字: 100 填寫α: 0.02\n",
      "     Model Year   Make              Model  Vehicle Class  Engine Size(L)  \\\n",
      "0          2022  Acura                ILX        Compact             2.4   \n",
      "1          2022  Acura         MDX SH-AWD     SUV: Small             3.5   \n",
      "2          2022  Acura         RDX SH-AWD     SUV: Small             2.0   \n",
      "3          2022  Acura  RDX SH-AWD A-SPEC     SUV: Small             2.0   \n",
      "4          2022  Acura         TLX SH-AWD        Compact             2.0   \n",
      "..          ...    ...                ...            ...             ...   \n",
      "941        2022  Volvo        XC40 T5 AWD     SUV: Small             2.0   \n",
      "942        2022  Volvo        XC60 B5 AWD     SUV: Small             2.0   \n",
      "943        2022  Volvo        XC60 B6 AWD     SUV: Small             2.0   \n",
      "944        2022  Volvo        XC90 T5 AWD  SUV: Standard             2.0   \n",
      "945        2022  Volvo        XC90 T6 AWD  SUV: Standard             2.0   \n",
      "\n",
      "     Cylinders Transmission Fuel Type  Fuel Consumption (City (L/100 km)  \\\n",
      "0            4          AM8         Z                                9.9   \n",
      "1            6         AS10         Z                               12.6   \n",
      "2            4         AS10         Z                               11.0   \n",
      "3            4         AS10         Z                               11.3   \n",
      "4            4         AS10         Z                               11.2   \n",
      "..         ...          ...       ...                                ...   \n",
      "941          4          AS8         Z                               10.7   \n",
      "942          4          AS8         Z                               10.5   \n",
      "943          4          AS8         Z                               11.0   \n",
      "944          4          AS8         Z                               11.5   \n",
      "945          4          AS8         Z                               12.4   \n",
      "\n",
      "     Fuel Consumption(Hwy (L/100 km))  Fuel Consumption(Comb (L/100 km))  \\\n",
      "0                                 7.0                                8.6   \n",
      "1                                 9.4                               11.2   \n",
      "2                                 8.6                                9.9   \n",
      "3                                 9.1                               10.3   \n",
      "4                                 8.0                                9.8   \n",
      "..                                ...                                ...   \n",
      "941                               7.7                                9.4   \n",
      "942                               8.1                                9.4   \n",
      "943                               8.7                                9.9   \n",
      "944                               8.4                               10.1   \n",
      "945                               8.9                               10.8   \n",
      "\n",
      "     Fuel Consumption(Comb (mpg))  CO2 Emissions(g/km)  CO2 Rating  \\\n",
      "0                              33                  200           6   \n",
      "1                              25                  263           4   \n",
      "2                              29                  232           5   \n",
      "3                              27                  242           5   \n",
      "4                              29                  230           5   \n",
      "..                            ...                  ...         ...   \n",
      "941                            30                  219           5   \n",
      "942                            30                  219           5   \n",
      "943                            29                  232           5   \n",
      "944                            28                  236           5   \n",
      "945                            26                  252           5   \n",
      "\n",
      "     Smog Rating  \n",
      "0              3  \n",
      "1              5  \n",
      "2              6  \n",
      "3              6  \n",
      "4              7  \n",
      "..           ...  \n",
      "941            5  \n",
      "942            5  \n",
      "943            7  \n",
      "944            5  \n",
      "945            7  \n",
      "\n",
      "[946 rows x 15 columns]\n"
     ]
    }
   ],
   "source": [
    "#套件\n",
    "import tkinter as tk # Gui\n",
    "from tkinter import filedialog, ttk, messagebox\n",
    "import pandas as pd # 資料處理 \n",
    "import re # 字串切割\n",
    "\n",
    "selected_class = None\n",
    "percent_value = None\n",
    "num_value = None\n",
    "range_value = None\n",
    "\n",
    "# 讀取 CSV\n",
    "def open_file():\n",
    "    global df_formal\n",
    "    file_path = filedialog.askopenfilename(title = \"選擇 CSV 檔案\", filetypes = [(\"CSV files\", \"*.csv\")])\n",
    "    if file_path:\n",
    "        try:\n",
    "            df_formal = pd.read_csv(file_path)\n",
    "            show_main_menu()\n",
    "        except pd.errors.EmptyDataError:\n",
    "            show_failure_frame()\n",
    "\n",
    "# 讀取失敗介面\n",
    "def show_failure_frame():\n",
    "    failure_frame = tk.Toplevel(root)\n",
    "    failure_label = tk.Label(failure_frame, text = \"存儲失敗，請選擇有效的 CSV 檔案\")\n",
    "    failure_label.pack(pady = 40)\n",
    "    exit_button = tk.Button(failure_frame, text = \"離開\", command = root.destroy)\n",
    "    exit_button.pack(pady = 20)\n",
    "\n",
    "# 讀取成功後，顯示操作介面\n",
    "def show_main_menu():\n",
    "    \n",
    "    # 下拉選單\n",
    "    global main_menu_frame\n",
    "    main_menu_frame = tk.Toplevel(root)\n",
    "    main_menu_label = tk.Label(main_menu_frame, text=\"選擇汰換模式\")\n",
    "    main_menu_label.pack(pady=20)\n",
    "\n",
    "    choices = [\n",
    "        \"汰換每一種 'Make' 前X%高碳排者，上限N台\",\n",
    "        \"汰換每一種 'Model' 前X%高碳排者，上限N台\",\n",
    "        \"汰換每一種 'Vehicle Class' 前X%高碳排者，上限N台\",\n",
    "        \"汰換每一種 'Engine Size(L)' 前X%高碳排者，上限N台\",\n",
    "        \"汰換每一種 'Cylinders' 前X%高碳排者，上限N台\",\n",
    "        \"汰換每一種 'Transmission' 前X%高碳排者，上限N台\",\n",
    "        \"汰換每一種 'Fuel Type' 前X%高碳排者，上限N台\",\n",
    "    ]\n",
    "\n",
    "    choice_var = tk.StringVar()\n",
    "    choice_dropdown = ttk.Combobox(main_menu_frame, textvariable=choice_var, values=choices, width=50)\n",
    "    choice_dropdown.pack(pady=20)\n",
    "    \n",
    "    # 填寫數字\n",
    "    percent_label = tk.Label(main_menu_frame, text=\"淘汰%\")\n",
    "    percent_label.pack(pady=10)\n",
    "    percent_entry = tk.Entry(main_menu_frame)\n",
    "    percent_entry.pack(pady=10)\n",
    "\n",
    "    num_label = tk.Label(main_menu_frame, text=\"欲淘汰數量\")\n",
    "    num_label.pack(pady=10)\n",
    "    num_entry = tk.Entry(main_menu_frame)\n",
    "    num_entry.pack(pady=10)\n",
    "    \n",
    "    range_label = tk.Label(main_menu_frame, text=\"擴張值α，建議從0.02，當產出太少時可增加此數\")\n",
    "    range_label.pack(pady=10)\n",
    "    range_entry = tk.Entry(main_menu_frame)\n",
    "    range_entry.pack(pady=10)\n",
    "\n",
    "    # 確定按鈕\n",
    "    submit_button = tk.Button(main_menu_frame, text=\"確定\",\n",
    "                              command=lambda: process_selection(choice_var.get(), percent_entry.get(), \n",
    "                                                                num_entry.get(),range_entry.get()))\n",
    "    submit_button.pack(pady=20)\n",
    "\n",
    "# 回傳變數\n",
    "def process_selection(choice, percent, n, range_):\n",
    "    \n",
    "    #宣告全域變數才能傳出\n",
    "    global selected_class, percent_value, num_value, range_value\n",
    "\n",
    "    # 資料條件檢驗\n",
    "    try:\n",
    "        if not (0 < float(percent) < 100) or not (0 < float(range_) < 1):\n",
    "            raise ValueError(\"百分比必須大於0且小於100，α必須大於0小於1\")\n",
    "        \n",
    "        # 通過後，回傳浮點數型態\n",
    "        else:\n",
    "            percent_value = float(percent)\n",
    "            range_value = float(range_)\n",
    "        \n",
    "        if not (int(n) > 0):\n",
    "            raise ValueError(\"數量必須大於0\")\n",
    "            \n",
    "        # 通過後，回傳整數型態\n",
    "        else:\n",
    "            num_value = int(n)\n",
    "            \n",
    "    #若驗證未過，顯示error資訊    \n",
    "    except ValueError as e:\n",
    "        show_error_message(str(e))\n",
    "        return\n",
    "\n",
    "    # 切割字串，回傳class\n",
    "    selected_class = extract_class_from_choice(choice)\n",
    "    if selected_class is not None:\n",
    "        print(\"選擇的 Class:\", selected_class)\n",
    "    else:\n",
    "        print(\"無法提取選擇的 Class\")\n",
    "\n",
    "    # 列印回傳資料\n",
    "    print(\"填寫%:\", percent_value, \n",
    "          \"填寫數字:\", num_value,\n",
    "          \"填寫α:\", range_value)\n",
    "    \n",
    "\n",
    "    root.destroy()\n",
    "\n",
    "# 切割class字串出來\n",
    "def extract_class_from_choice(choice):\n",
    "    match = re.search(r\"'([^']*)'\", choice)\n",
    "    return match.group(1) if match else None\n",
    "\n",
    "# 顯示錯誤訊息\n",
    "def show_error_message(message):\n",
    "    error_frame = tk.Toplevel(root)\n",
    "    error_label = tk.Label(error_frame, text=message)\n",
    "    error_label.pack(pady=40)\n",
    "    exit_button = tk.Button(error_frame, text=\"關閉\", command=error_frame.destroy)\n",
    "    exit_button.pack(pady=20)\n",
    "\n",
    "# 執行\n",
    "root = tk.Tk()\n",
    "root.title(\"選擇 CSV 檔案\")\n",
    "\n",
    "open_button = tk.Button(root, text=\"選擇 CSV 檔案\", command=open_file)\n",
    "open_button.pack(pady=20)\n",
    "\n",
    "# 設置視窗高度寬度\n",
    "root.geometry(\"500x200\")\n",
    "root.mainloop()\n",
    "\n",
    "# 印出匯入資料\n",
    "print(df_formal)"
   ]
  },
  {
   "cell_type": "markdown",
   "metadata": {},
   "source": [
    "# 套件"
   ]
  },
  {
   "cell_type": "code",
   "execution_count": 2,
   "metadata": {},
   "outputs": [],
   "source": [
    "# ML套件\n",
    "from sklearn.model_selection import train_test_split # 切割訓練資料\n",
    "from sklearn.ensemble import RandomForestClassifier # 隨機森林套件\n",
    "from sklearn.model_selection import GridSearchCV # 網格搜索\n",
    "\n",
    "from sklearn.model_selection import cross_val_score  # 交互驗證 \n",
    "from sklearn.model_selection import cross_val_predict # 交互驗證的混淆矩陣、分類報告\n",
    "\n",
    "from sklearn.metrics import accuracy_score, classification_report, confusion_matrix \n",
    "# 產生精確度及二元分類模型的分類報告和混淆矩陣\n",
    "\n",
    "# 讀取資料\n",
    "df = pd.read_csv('TEST_ML_BIG.csv') "
   ]
  },
  {
   "cell_type": "markdown",
   "metadata": {},
   "source": [
    "# 標籤"
   ]
  },
  {
   "cell_type": "code",
   "execution_count": 3,
   "metadata": {},
   "outputs": [],
   "source": [
    "'''各品牌前x%高碳排的汽車進行標籤，且最多標n台'''\n",
    "def filter1_find_eachTarget_front_Xpercent(df, target, x, n, r):  \n",
    "# x是希望抓各品牌前x%, n是希望淘汰數量, r是用在貪婪函式的擴張範圍\n",
    "    \n",
    "    # 計算每個 Make 的 CO2 emissions 的閾值\n",
    "    thresholds = df.groupby(target)['CO2 Emissions(g/km)'].quantile(1-x/100)  #因碳排前高者為大數字，故從後面開始抓\n",
    "\n",
    "    # lambda定義一個拋棄式函數，將每個 Make 的後x% 設置為 1，其餘為 0\n",
    "    # 新增 To_Eliminate 欄位，標記後x% 為 1\n",
    "    df['To_Eliminate'] = df.apply(lambda row: 1 if row['CO2 Emissions(g/km)'] >= thresholds[row[target]] else 0, axis=1)\n",
    "\n",
    "    \n",
    "    '''貪婪演算法函式，以免淘汰車輛超過指定數量輛n台'''\n",
    "    greedy(df, n, r)  \n",
    "    # 微調轉換數量上限，使得產出結果能大於100台，讓使用者自行決定不淘汰之車輛。\n",
    "\n",
    "    '''印出標籤明細'''\n",
    "    to_eliminate_rows = df[df['To_Eliminate'] == 1]\n",
    "    print(\"\\n標籤車輛之明細：\", )\n",
    "    for i in to_eliminate_rows['CO2 Emissions(g/km)']:\n",
    "        print(i,end = ', ')\n",
    "        \n",
    "'''貪婪演算法，確保篩選數量在使用者規定內的同時，能最大化省碳效益'''\n",
    "def greedy(df, n, range_):\n",
    "    # 計算\"To_Eliminate\"列中值為1的數量。To_Eliminate只有0跟1，1的sum就是有1的數量\n",
    "    count_to_determine = df['To_Eliminate'].sum()\n",
    "\n",
    "    # 如果數量超過100，則將最小的碳排車輛標籤轉換為0\n",
    "    n = int(n * (1 + range_)) # 剛剛好的話很容易因為誤差問題而少淘汰，故可以多淘汰而進一步篩選。\n",
    "    if count_to_determine > n:\n",
    "        \n",
    "        df_to_switch = df[df['To_Eliminate'] == 1]\n",
    "\n",
    "        # 根據 CO2 Emissions(g/km) 進行排序，選出最小的那幾輛\n",
    "        df_to_switch = df_to_switch.sort_values(by = 'CO2 Emissions(g/km)').head(count_to_determine - n)\n",
    "\n",
    "        # 將選出的To_Eliminate列的值轉換為 0\n",
    "        df.loc[df_to_switch.index, 'To_Eliminate'] = 0"
   ]
  },
  {
   "cell_type": "code",
   "execution_count": 4,
   "metadata": {},
   "outputs": [
    {
     "name": "stdout",
     "output_type": "stream",
     "text": [
      "\n",
      "標籤車輛之明細：\n",
      "608, 608, 354, 498, 498, 395, 322, 356, 322, 356, 363, 374, 387, 346, 356, 345, 353, 355, 349, 329, 345, 352, 352, 385, 366, 345, 353, 345, 353, 339, 352, 359, 352, 368, 329, 345, 352, 385, 345, 353, 345, 353, 465, 331, 331, 323, 325, 330, 385, 355, 362, 341, 347, 380, 358, 359, 347, 339, 361, 364, 381, 332, 336, 354, 332, 354, 341, 347, 380, 358, 359, 347, 329, 338, 360, 381, 332, 354, 332, 336, 354, 392, 339, 339, 350, 354, 365, 336, 337, 322, 322, 322, 322, 322, 322, 322, 322, 322, 364, 364, 364, 364, 343, 360, 323, 325, 325, 331, 326, 343, 330, 345, 323, 323, 326, 326, 326, 348, 349, 349, 348, 334, 355, 335, 354, 323, 324, 328, 329, 326, 344, 357, 359, 370, 395, 323, 323, 323, 323, 331, 331, 323, 336, 343, 337, 361, 361, 328, 328, 349, 325, 325, 395, 324, 324, 323, 323, 323, 323, 364, 364, 364, 364, 608, 608, 347, 368, 352, 436, 355, 349, 335, 371, 392, 343, 349, 364, 339, 352, 352, 339, 352, 359, 352, 368, 363, 410, 324, 336, 331, 329, 358, 329, 331, 327, 344, 357, 359, 370, 460, 322, 343, 335, 346, 330, 364, 364, 352, 339, 352, 355, 331, 331, 334, 374, 352, 324, 387, 339, 350, 337, 348, 349, 349, 348, 415, 508, 343, 347, 354, 329, 329, 360, 383, 346, 384, 362, 325, 465, 330, 397, 397, 323, 357, 333, 329, 353, 329, 353, 360, 339, 324, 324, 323, 323, 354, 323, 323, 323, 323, 323, 323, 339, 339, 339, 339, 364, 364, 364, 364, 608, 347, 357, 355, 349, 329, 336, 340, 329, 347, 331, 348, 347, 350, 368, 339, 332, 352, 341, 347, 357, 347, 357, 339, 352, 359, 352, 368, 363, 410, 330, 327, 344, 357, 359, 370, 393, 325, 393, 341, 354, 331, 336, 340, 329, 331, 348, 347, 355, 349, 348, 335, 332, 352, 347, 357, 341, 347, 357, 356, 331, 368, 413, 331, 520, 520, 515, 515, 539, 539, 354, 365, 336, 337, 395, 348, 349, 349, 348, 396, 340, 347, 347, 322, 328, 332, 330, 339, 346, 362, 324, 328, 331, 326, 329, 332, 323, 323, 326, 326, 326, 325, 465, 330, 408, 408, 384, 371, 382, 333, 347, 347, 360, 339, 322, 401, 465, 322, 322, 354, 322, 322, 322, 322, 322, 322, 339, 339, 339, 339, 362, 362, 362, 362, 324, 333, 355, 349, 331, 339, 331, 349, 331, 350, 342, 354, 357, 332, 337, 337, 343, 339, 352, 358, 352, 368, 363, 336, 393, 342, 392, 340, 352, 328, 339, 331, 331, 344, 354, 332, 337, 337, 343, 360, 331, 413, 368, 493, 535, 535, 354, 365, 336, 337, 395, 360, 360, 396, 323, 324, 326, 327, 327, 356, 378, 355, 362, 329, 332, 325, 330, 400, 400, 400, 400, 385, 371, 381, 346, 465, 324, 324, 344, 355, 341, 324, 337, 328, 355, 349, 331, 331, 381, 368, 329, 329, 347, 329, 339, 350, 336, 336, 340, 339, 352, 339, 339, 363, 326, 326, 347, 323, 336, 402, 341, 346, 355, 329, 329, 330, 339, 332, 336, 336, 340, 354, 331, 368, 413, 493, 365, 341, 371, 354, 360, 360, 396, 370, 357, 370, 323, 324, 327, 356, 337, 343, 378, 355, 355, 364, 326, 331, 324, 352, 335, 334, 350, 329, 325, 346, 382, 328, 397, 397, 397, 397, 384, 371, 354, 382, 346, 338, 338, 389, 389, 389, 405, 344, 324, 344, 324, 344, 324, 355, 341, 341, 329, 329, 361, 348, 331, 336, 331, 339, 339, 352, 339, 363, 324, 323, 324, 324, 334, 339, 325, 339, 322, 403, 341, 345, 354, 331, 340, 354, 331, 368, 413, 341, 371, 322, 355, 358, 419, 473, 364, 357, 367, 324, 356, 339, 410, 346, 355, 362, 326, 331, 324, 352, 334, 334, 346, 382, 328, 397, 397, 397, 384, 371, 354, 383, 450, 330, 330, 407, 430, 343, 324, 343, 324, 343, 324, 355, 341, 341, 322, 329, 331, 367, 349, 331, 336, 438, 445, 324, 327, 330, 322, 325, 325, 339, 352, 339, 328, 387, 333, 337, 340, 323, 330, 347, 326, 339, 406, 324, 324, 341, 344, 354, 343, 332, 438, 445, 330, 330, 333, 355, 328, 368, 461, 461, 341, 372, 333, 339, 355, 358, 413, 467, 353, 363, 363, 369, 349, 348, 365, 401, 347, 359, 350, 362, 326, 333, 334, 334, 346, 361, 328, 400, 400, 400, 401, 380, 334, 358, 349, 378, "
     ]
    }
   ],
   "source": [
    "filter1_find_eachTarget_front_Xpercent(df, selected_class, float(percent_value), \n",
    "                                       int(num_value)/len(df_formal)*len(df), float(range_value))"
   ]
  },
  {
   "cell_type": "markdown",
   "metadata": {},
   "source": [
    "# Kmeans"
   ]
  },
  {
   "cell_type": "code",
   "execution_count": 5,
   "metadata": {},
   "outputs": [],
   "source": [
    "'''使機器自動辨別各資料間的關聯，再依可能較相關之資料群進行分群'''\n",
    "\n",
    "# ML套件\n",
    "from sklearn.cluster import KMeans\n",
    "\n",
    "def kmeans_(df):\n",
    "    \n",
    "    included = ['Engine Size(L)', 'Cylinders']\n",
    "    X = df[included]\n",
    "\n",
    "    model = KMeans(n_clusters = 10, n_init='auto', random_state=1)  # 預計分為10群，迭代次數由模型自行定義\n",
    "    model.fit(X)  # 建立模型\n",
    "\n",
    "    df['Cluster'] = model.labels_  #將分類結果加回df\n",
    "    \n",
    "    return df"
   ]
  },
  {
   "cell_type": "code",
   "execution_count": 6,
   "metadata": {},
   "outputs": [
    {
     "name": "stderr",
     "output_type": "stream",
     "text": [
      "D:\\Anaconda\\lib\\site-packages\\joblib\\externals\\loky\\backend\\context.py:136: UserWarning: Could not find the number of physical cores for the following reason:\n",
      "found 0 physical cores < 1\n",
      "Returning the number of logical cores instead. You can silence this warning by setting LOKY_MAX_CPU_COUNT to the number of cores you want to use.\n",
      "  warnings.warn(\n",
      "  File \"D:\\Anaconda\\lib\\site-packages\\joblib\\externals\\loky\\backend\\context.py\", line 282, in _count_physical_cores\n",
      "    raise ValueError(f\"found {cpu_count_physical} physical cores < 1\")\n"
     ]
    }
   ],
   "source": [
    "# 將訓練資料進行分群，增加可學習特徵，以提高預測準確度\n",
    "df = kmeans_(df)"
   ]
  },
  {
   "cell_type": "markdown",
   "metadata": {},
   "source": [
    "# 特徵工程_方差過濾器 (Variance Threshold)"
   ]
  },
  {
   "cell_type": "code",
   "execution_count": 7,
   "metadata": {},
   "outputs": [
    {
     "name": "stdout",
     "output_type": "stream",
     "text": [
      "被選擇的特徵： Index(['Engine Size(L)', 'Cylinders', 'Cluster'], dtype='object')\n"
     ]
    }
   ],
   "source": [
    "from sklearn.feature_selection import VarianceThreshold\n",
    "\n",
    "\n",
    "'''納入油耗數據'''\n",
    "columns_to_include = ['Engine Size(L)', 'Cylinders','Cluster']  # 選取特徵資料名稱\n",
    "X = df[columns_to_include]\n",
    "y = df[\"CO2 Emissions(g/km)\"]\n",
    "\n",
    "\n",
    "# 讓機器挑選特徵\n",
    "selector = VarianceThreshold(threshold = 0.1) # 特徵選擇工具，用來過濾掉方差低於某一閾值的x變數\n",
    "X_selected = selector.fit_transform(X) \n",
    "\n",
    "selected_feature_indices = selector.get_support(indices=True)\n",
    "\n",
    "# 根據索引提取被選擇的特徵名稱\n",
    "selected_feature_names = X.columns[selected_feature_indices]\n",
    "\n",
    "# print被選擇的特徵名稱\n",
    "print(\"被選擇的特徵：\", selected_feature_names)"
   ]
  },
  {
   "cell_type": "markdown",
   "metadata": {},
   "source": [
    "# 模型建立、訓練、評估準確度；產出混淆矩陣和分類報告"
   ]
  },
  {
   "cell_type": "code",
   "execution_count": 8,
   "metadata": {},
   "outputs": [
    {
     "name": "stdout",
     "output_type": "stream",
     "text": [
      "grid_search Best Parameters:  {'colsample_bytree': 0.8, 'learning_rate': 0.2, 'max_depth': 7, 'n_estimators': 50, 'subsample': 0.8}\n",
      "grid_search Best Accuracy:  0.913914617608679\n",
      "Accuracy with Best Model: 0.911849710982659\n",
      "Confusion Matrix:\n",
      " [[1823   33]\n",
      " [ 150   70]]\n",
      "Classification Report:\n",
      "               precision    recall  f1-score   support\n",
      "\n",
      "           0       0.92      0.98      0.95      1856\n",
      "           1       0.68      0.32      0.43       220\n",
      "\n",
      "    accuracy                           0.91      2076\n",
      "   macro avg       0.80      0.65      0.69      2076\n",
      "weighted avg       0.90      0.91      0.90      2076\n",
      "\n"
     ]
    }
   ],
   "source": [
    "# 超參數調整是通過嘗試不同的超參數組合，找到模型性能最佳的超參數配置的過程：網格搜索（Grid Search） \n",
    "\n",
    "import xgboost as xgb\n",
    "from sklearn.model_selection import GridSearchCV\n",
    "from sklearn.model_selection import cross_val_score\n",
    "from sklearn.model_selection import train_test_split\n",
    "from sklearn.metrics import accuracy_score\n",
    "\n",
    "# Assuming df is your DataFrame\n",
    "X = df[selected_feature_names]\n",
    "y = df['To_Eliminate']\n",
    "\n",
    "# Split the data into training and testing sets\n",
    "X_train, X_test, y_train, y_test = train_test_split(X, y, test_size=0.3, random_state=42)\n",
    "\n",
    "# Define the parameter grid to search\n",
    "param_grid = {\n",
    "    'max_depth': [3, 5, 7],\n",
    "    'learning_rate': [0.01, 0.1, 0.2],\n",
    "    'n_estimators': [50, 100, 200],\n",
    "    'subsample': [0.8, 0.9, 1.0],\n",
    "    'colsample_bytree': [0.8, 0.9, 1.0]\n",
    "}\n",
    "\n",
    "# Create an XGBoost classifier\n",
    "model = xgb.XGBClassifier(objective=\"binary:logistic\", random_state=42)\n",
    "\n",
    "# Create a GridSearchCV object with cross-validation\n",
    "grid_search = GridSearchCV(estimator=model, param_grid=param_grid, scoring='accuracy', cv=5)\n",
    "\n",
    "# Fit the model to the training data using cross-validation\n",
    "grid_search.fit(X_train, y_train)\n",
    "\n",
    "# Print the best parameters and their corresponding accuracy\n",
    "print(\"grid_search Best Parameters: \", grid_search.best_params_)\n",
    "print(\"grid_search Best Accuracy: \", grid_search.best_score_)\n",
    "\n",
    "# Use the best model for predictions\n",
    "best_model = grid_search.best_estimator_\n",
    "y_pred = best_model.predict(X_test)\n",
    "\n",
    "# 評估最佳模型的性能\n",
    "accuracy = accuracy_score(y_test, y_pred)\n",
    "conf_matrix = confusion_matrix(y_test, y_pred)\n",
    "class_report = classification_report(y_test, y_pred)\n",
    "\n",
    "print(f'Accuracy with Best Model: {accuracy}')\n",
    "print(\"Confusion Matrix:\\n\", conf_matrix)\n",
    "print(\"Classification Report:\\n\", class_report)"
   ]
  },
  {
   "cell_type": "markdown",
   "metadata": {},
   "source": [
    "1. True Positive (TP): 有51個實際為1（要淘汰），且模型正確預測為1。\n",
    "2. True Negative (TN): 有175個實際為0（不淘汰），且模型正確預測為0。\n",
    "3. False Positive (FP): 有1個實際為0（不淘汰），但模型誤將其預測為1。\n",
    "4. False Negative (FN): 沒有實際為1（要淘汰），但模型誤將其預測為1。"
   ]
  },
  {
   "cell_type": "markdown",
   "metadata": {},
   "source": [
    "1. Precision: 預測為1的樣本中，有98%是真正要淘汰的車輛。\n",
    "2. Recall (Sensitivity): 實際要淘汰的車輛中，有100%被模型成功找出。\n",
    "3. F1-Score: Precision和Recall的調和平均數，是一個綜合考慮Precision和Recall的指標。\n",
    "4. Support: 每個類別的實際樣本數。\n",
    "5. Accuracy: 整體預測的正確率，這裡是1.00表示100%正確預測。\n",
    "\n",
    "總體來說，這個模型在測試集上表現非常好，具有高的準確性、高的Precision和Recall，但請注意，這樣的結果也可能是由於類別不平衡所致，即\"不要淘汰\"的樣本比\"要淘汰\"的樣本多。在實際應用中，需要進一步確保模型的穩健性和泛化性。"
   ]
  },
  {
   "cell_type": "markdown",
   "metadata": {},
   "source": [
    "# RESULT: input, prediction and output"
   ]
  },
  {
   "cell_type": "code",
   "execution_count": 9,
   "metadata": {},
   "outputs": [],
   "source": [
    "def predict_NoFA(df):\n",
    "    \n",
    "    # 分群函式\n",
    "    kmeans_(df)\n",
    "    \n",
    "    # 特徵放入X\n",
    "    input_X = df[selected_feature_names]\n",
    "\n",
    "    # 進行預測\n",
    "    predictions = best_model.predict(input_X)\n",
    "\n",
    "    # 將預測結果加入新的資料集\n",
    "    df['To_Eliminate'] = predictions\n",
    "    return df"
   ]
  },
  {
   "cell_type": "code",
   "execution_count": 10,
   "metadata": {},
   "outputs": [],
   "source": [
    "def output_(df):\n",
    "\n",
    "    # 计算 To_Eliminate 为 1 的项的 CO2 Emissions(g/km) 加总\n",
    "    Q_eliminate = df['To_Eliminate'].sum()\n",
    "    sum_co2_to_eliminate = df.loc[df['To_Eliminate'] == 1, 'CO2 Emissions(g/km)'].sum()\n",
    "    average_co2_to_eliminate = df.loc[df['To_Eliminate'] == 1, 'CO2 Emissions(g/km)'].mean()\n",
    "\n",
    "    # 印出淘汰數量，節省加總，節省平均\n",
    "    print(\"欲淘汰數量：\", Q_eliminate,\"輛\"\n",
    "          f\"\\n節省 CO2 Emissions 加總：{sum_co2_to_eliminate}g/km\"\n",
    "          f\"\\n節省 CO2 Emissions 平均：{round(average_co2_to_eliminate, 2)}g/km\"\n",
    "          f\"\\n節省 CO2 Emissions 每年{sum_co2_to_eliminate*10000/1000000}噸，\",\n",
    "          f\"大約等於 {round(sum_co2_to_eliminate*10000/1000000/189, 2)} 公頃的樟樹固碳能力\")\n",
    "\n",
    "    # 印出淘汰碳排明細\n",
    "    to_eliminate_rows = df[df['To_Eliminate'] == 1]\n",
    "    print(\"\\n欲淘汰車輛之碳排明細：\", )\n",
    "    for i in to_eliminate_rows['CO2 Emissions(g/km)']:\n",
    "        print(i,end = ', ')\n",
    "    \n",
    "    # 將報告保存為CSV文件\n",
    "    df.to_csv('FinalData_eliminated_cars_report.csv', index=False)\n",
    "    print()"
   ]
  },
  {
   "cell_type": "markdown",
   "metadata": {},
   "source": [
    "# 根據企業資料，反饋淘汰資料"
   ]
  },
  {
   "cell_type": "code",
   "execution_count": 11,
   "metadata": {},
   "outputs": [
    {
     "name": "stdout",
     "output_type": "stream",
     "text": [
      "欲淘汰數量： 45 輛\n",
      "節省 CO2 Emissions 加總：16360g/km\n",
      "節省 CO2 Emissions 平均：363.56g/km\n",
      "節省 CO2 Emissions 每年163.6噸， 大約等於 0.87 公頃的樟樹固碳能力\n",
      "\n",
      "欲淘汰車輛之碳排明細：\n",
      "383, 379, 395, 373, 354, 346, 356, 345, 353, 281, 296, 355, 349, 297, 329, 345, 352, 352, 385, 366, 345, 353, 345, 353, 339, 352, 359, 352, 368, 392, 329, 345, 352, 385, 345, 353, 345, 353, 355, 489, 498, 498, 337, 362, 465, \n"
     ]
    },
    {
     "name": "stderr",
     "output_type": "stream",
     "text": [
      "D:\\Anaconda\\lib\\site-packages\\sklearn\\cluster\\_kmeans.py:1440: UserWarning: KMeans is known to have a memory leak on Windows with MKL, when there are less chunks than available threads. You can avoid it by setting the environment variable OMP_NUM_THREADS=4.\n",
      "  warnings.warn(\n"
     ]
    }
   ],
   "source": [
    "predict_NoFA(df_formal)\n",
    "output_(df_formal)  # 程式碼在標籤那裏"
   ]
  },
  {
   "cell_type": "markdown",
   "metadata": {},
   "source": [
    "### Testing"
   ]
  },
  {
   "cell_type": "code",
   "execution_count": 12,
   "metadata": {},
   "outputs": [],
   "source": [
    "# 計算每個 Make 的 CO2 emissions 的閾值\n",
    "thresholds = df_formal.groupby(selected_class)['CO2 Emissions(g/km)'].quantile(int(1-float(percent_value)/100))  \n",
    "#因碳排前高者為大數字，故從後面開始抓\n",
    "\n",
    "# lambda定義一個拋棄式函數，將每個 Make 的後x% 設置為 1，其餘為 0\n",
    "# 新增 To_Eliminate 欄位，標記後x% 為 1\n",
    "df_formal['right_label'] = df_formal.apply(lambda row: \n",
    "                                           1 if row['CO2 Emissions(g/km)'] >= thresholds[row[selected_class]] \n",
    "                                           else 0, axis=1)\n",
    "\n",
    "    \n",
    "'''貪婪演算法函式，以免淘汰車輛超過指定數量輛n台'''\n",
    "# 計算\"To_Eliminate\"列中值為1的數量。To_Eliminate只有0跟1，1的sum就是有一個數量\n",
    "count_to_determine = df_formal['right_label'].sum()\n",
    "\n",
    "# 如果數量超過100，則將最小的碳排車輛標籤轉換為0\n",
    "n = len(df_formal[df_formal['To_Eliminate'] == 1]) # 剛剛好的話很容易因為誤差問題而少淘汰，故可以多淘汰而進一步篩選。\n",
    "if count_to_determine > n:\n",
    "        \n",
    "    df_to_switch = df_formal[df_formal['right_label'] == 1]\n",
    "\n",
    "    # 根據 CO2 Emissions(g/km) 進行排序，選出最小的那幾輛\n",
    "    df_to_switch = df_to_switch.sort_values(by = 'CO2 Emissions(g/km)').head(count_to_determine - n)\n",
    "\n",
    "    # 將選出的To_Eliminate列的值轉換為 0\n",
    "    df_formal.loc[df_to_switch.index, 'right_label'] = 0"
   ]
  },
  {
   "cell_type": "code",
   "execution_count": 13,
   "metadata": {},
   "outputs": [
    {
     "name": "stdout",
     "output_type": "stream",
     "text": [
      "~Testing Report~\n",
      "\n",
      "testing模型準確度: 93.446%\n",
      "Confusion Matrix:\n",
      " [[870  31]\n",
      " [ 31  14]]\n",
      "\n",
      "Classification Report:\n",
      "               precision    recall  f1-score   support\n",
      "\n",
      "           0       0.97      0.97      0.97       901\n",
      "           1       0.31      0.31      0.31        45\n",
      "\n",
      "    accuracy                           0.93       946\n",
      "   macro avg       0.64      0.64      0.64       946\n",
      "weighted avg       0.93      0.93      0.93       946\n",
      "\n"
     ]
    }
   ],
   "source": [
    "print('~Testing Report~\\n')\n",
    "\n",
    "# 與標籤相同之程度\n",
    "different_values_count = (df_formal['To_Eliminate'] != df_formal['right_label']).sum()\n",
    "print(f\"testing模型準確度: {round((1-(different_values_count)/len(df_formal))*100,3)}%\")\n",
    "\n",
    "# 混淆矩陣及分類報告\n",
    "print(\"Confusion Matrix:\\n\", confusion_matrix(df_formal['right_label'], df_formal['To_Eliminate']))  # 後為預測\n",
    "print(\"\\nClassification Report:\\n\", classification_report(df_formal['right_label'], df_formal['To_Eliminate']))"
   ]
  },
  {
   "cell_type": "code",
   "execution_count": null,
   "metadata": {},
   "outputs": [],
   "source": []
  },
  {
   "cell_type": "code",
   "execution_count": null,
   "metadata": {},
   "outputs": [],
   "source": []
  },
  {
   "cell_type": "code",
   "execution_count": null,
   "metadata": {},
   "outputs": [],
   "source": []
  },
  {
   "cell_type": "code",
   "execution_count": null,
   "metadata": {},
   "outputs": [],
   "source": []
  },
  {
   "cell_type": "code",
   "execution_count": null,
   "metadata": {},
   "outputs": [],
   "source": []
  },
  {
   "cell_type": "code",
   "execution_count": null,
   "metadata": {},
   "outputs": [],
   "source": []
  },
  {
   "cell_type": "code",
   "execution_count": null,
   "metadata": {},
   "outputs": [],
   "source": []
  },
  {
   "cell_type": "code",
   "execution_count": null,
   "metadata": {},
   "outputs": [],
   "source": []
  },
  {
   "cell_type": "code",
   "execution_count": 14,
   "metadata": {},
   "outputs": [
    {
     "ename": "NameError",
     "evalue": "name 'df_normal' is not defined",
     "output_type": "error",
     "traceback": [
      "\u001b[1;31m---------------------------------------------------------------------------\u001b[0m",
      "\u001b[1;31mNameError\u001b[0m                                 Traceback (most recent call last)",
      "\u001b[1;32m<ipython-input-14-a88d1faf93c1>\u001b[0m in \u001b[0;36m<module>\u001b[1;34m\u001b[0m\n\u001b[1;32m----> 1\u001b[1;33m \u001b[0mdf_normal\u001b[0m\u001b[1;33m\u001b[0m\u001b[1;33m\u001b[0m\u001b[0m\n\u001b[0m",
      "\u001b[1;31mNameError\u001b[0m: name 'df_normal' is not defined"
     ]
    }
   ],
   "source": [
    "df_normal"
   ]
  },
  {
   "cell_type": "code",
   "execution_count": null,
   "metadata": {},
   "outputs": [],
   "source": []
  },
  {
   "cell_type": "code",
   "execution_count": null,
   "metadata": {},
   "outputs": [],
   "source": []
  },
  {
   "cell_type": "code",
   "execution_count": null,
   "metadata": {},
   "outputs": [],
   "source": []
  }
 ],
 "metadata": {
  "kernelspec": {
   "display_name": "Python 3",
   "language": "python",
   "name": "python3"
  },
  "language_info": {
   "codemirror_mode": {
    "name": "ipython",
    "version": 3
   },
   "file_extension": ".py",
   "mimetype": "text/x-python",
   "name": "python",
   "nbconvert_exporter": "python",
   "pygments_lexer": "ipython3",
   "version": "3.8.3"
  }
 },
 "nbformat": 4,
 "nbformat_minor": 4
}
