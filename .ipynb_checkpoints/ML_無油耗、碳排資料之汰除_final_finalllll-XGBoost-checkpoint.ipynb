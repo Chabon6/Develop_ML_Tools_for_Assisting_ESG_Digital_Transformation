{
 "cells": [
  {
   "cell_type": "markdown",
   "metadata": {},
   "source": [
    "# GUI_匯入企業資料，選擇目標"
   ]
  },
  {
   "cell_type": "code",
   "execution_count": 1,
   "metadata": {},
   "outputs": [
    {
     "name": "stdout",
     "output_type": "stream",
     "text": [
      "選擇的 Class: Make\n",
      "填寫%: 40.0 填寫數字: 300 填寫α: 1e-06\n",
      "      Model Year   Make       Model   Vehicle Class  Engine Size(L)  \\\n",
      "0           2014  ACURA         ILX         COMPACT             2.0   \n",
      "1           2014  ACURA         ILX         COMPACT             2.4   \n",
      "2           2014  ACURA  ILX HYBRID         COMPACT             1.5   \n",
      "3           2014  ACURA     MDX 4WD     SUV - SMALL             3.5   \n",
      "4           2014  ACURA     RDX AWD     SUV - SMALL             3.5   \n",
      "...          ...    ...         ...             ...             ...   \n",
      "1062        2014  VOLVO    XC60 AWD     SUV - SMALL             3.0   \n",
      "1063        2014  VOLVO    XC60 AWD     SUV - SMALL             3.2   \n",
      "1064        2014  VOLVO    XC70 AWD     SUV - SMALL             3.0   \n",
      "1065        2014  VOLVO    XC70 AWD     SUV - SMALL             3.2   \n",
      "1066        2014  VOLVO    XC90 AWD  SUV - STANDARD             3.2   \n",
      "\n",
      "      Cylinders Transmission  Fuel Type  Fuel Consumption (City (L/100 km)  \\\n",
      "0             4          AS5          4                                9.9   \n",
      "1             4           M6          4                               11.2   \n",
      "2             4          AV7          4                                6.0   \n",
      "3             6          AS6          4                               12.7   \n",
      "4             6          AS6          4                               12.1   \n",
      "...         ...          ...        ...                                ...   \n",
      "1062          6          AS6          3                               13.4   \n",
      "1063          6          AS6          3                               13.2   \n",
      "1064          6          AS6          3                               13.4   \n",
      "1065          6          AS6          3                               12.9   \n",
      "1066          6          AS6          3                               14.9   \n",
      "\n",
      "      Fuel Consumption(Hwy (L/100 km))  Fuel Consumption(Comb (L/100 km))  \\\n",
      "0                                  6.7                                8.5   \n",
      "1                                  7.7                                9.6   \n",
      "2                                  5.8                                5.9   \n",
      "3                                  9.1                               11.1   \n",
      "4                                  8.7                               10.6   \n",
      "...                                ...                                ...   \n",
      "1062                               9.8                               11.8   \n",
      "1063                               9.5                               11.5   \n",
      "1064                               9.8                               11.8   \n",
      "1065                               9.3                               11.3   \n",
      "1066                              10.2                               12.8   \n",
      "\n",
      "      Fuel Consumption(Comb (mpg))  CO2 Emissions(g/km)  \n",
      "0                               33                  196  \n",
      "1                               29                  221  \n",
      "2                               48                  136  \n",
      "3                               25                  255  \n",
      "4                               27                  244  \n",
      "...                            ...                  ...  \n",
      "1062                            24                  271  \n",
      "1063                            25                  264  \n",
      "1064                            24                  271  \n",
      "1065                            25                  260  \n",
      "1066                            22                  294  \n",
      "\n",
      "[1067 rows x 13 columns]\n"
     ]
    }
   ],
   "source": [
    "#套件\n",
    "import tkinter as tk # Gui\n",
    "from tkinter import filedialog, ttk, messagebox\n",
    "import pandas as pd # 資料處理 \n",
    "import re # 字串切割\n",
    "\n",
    "selected_class = None\n",
    "percent_value = None\n",
    "num_value = None\n",
    "range_value = None\n",
    "\n",
    "# 讀取 CSV\n",
    "def open_file():\n",
    "    global df_formal\n",
    "    file_path = filedialog.askopenfilename(title = \"選擇 CSV 檔案\", filetypes = [(\"CSV files\", \"*.csv\")])\n",
    "    if file_path:\n",
    "        try:\n",
    "            df_formal = pd.read_csv(file_path)\n",
    "            show_main_menu()\n",
    "        except pd.errors.EmptyDataError:\n",
    "            show_failure_frame()\n",
    "\n",
    "# 讀取失敗介面\n",
    "def show_failure_frame():\n",
    "    failure_frame = tk.Toplevel(root)\n",
    "    failure_label = tk.Label(failure_frame, text = \"存儲失敗，請選擇有效的 CSV 檔案\")\n",
    "    failure_label.pack(pady = 40)\n",
    "    exit_button = tk.Button(failure_frame, text = \"離開\", command = root.destroy)\n",
    "    exit_button.pack(pady = 20)\n",
    "\n",
    "# 讀取成功後，顯示操作介面\n",
    "def show_main_menu():\n",
    "    \n",
    "    # 下拉選單\n",
    "    global main_menu_frame\n",
    "    main_menu_frame = tk.Toplevel(root)\n",
    "    main_menu_label = tk.Label(main_menu_frame, text=\"選擇汰換模式\")\n",
    "    main_menu_label.pack(pady=20)\n",
    "\n",
    "    choices = [\n",
    "        \"汰換每一種 'Make' 前X%高碳排者，上限N台\",\n",
    "        \"汰換每一種 'Model' 前X%高碳排者，上限N台\",\n",
    "        \"汰換每一種 'Vehicle Class' 前X%高碳排者，上限N台\",\n",
    "        \"汰換每一種 'Engine Size(L)' 前X%高碳排者，上限N台\",\n",
    "        \"汰換每一種 'Cylinders' 前X%高碳排者，上限N台\",\n",
    "        \"汰換每一種 'Transmission' 前X%高碳排者，上限N台\",\n",
    "        \"汰換每一種 'Fuel Type' 前X%高碳排者，上限N台\",\n",
    "    ]\n",
    "\n",
    "    choice_var = tk.StringVar()\n",
    "    choice_dropdown = ttk.Combobox(main_menu_frame, textvariable=choice_var, values=choices, width=50)\n",
    "    choice_dropdown.pack(pady=20)\n",
    "    \n",
    "    # 填寫數字\n",
    "    percent_label = tk.Label(main_menu_frame, text=\"淘汰%\")\n",
    "    percent_label.pack(pady=10)\n",
    "    percent_entry = tk.Entry(main_menu_frame)\n",
    "    percent_entry.pack(pady=10)\n",
    "\n",
    "    num_label = tk.Label(main_menu_frame, text=\"欲淘汰數量\")\n",
    "    num_label.pack(pady=10)\n",
    "    num_entry = tk.Entry(main_menu_frame)\n",
    "    num_entry.pack(pady=10)\n",
    "    \n",
    "    range_label = tk.Label(main_menu_frame, text=\"擴張值α，建議從0.02，當產出太少時可增加此數\")\n",
    "    range_label.pack(pady=10)\n",
    "    range_entry = tk.Entry(main_menu_frame)\n",
    "    range_entry.pack(pady=10)\n",
    "\n",
    "    # 確定按鈕\n",
    "    submit_button = tk.Button(main_menu_frame, text=\"確定\",\n",
    "                              command=lambda: process_selection(choice_var.get(), percent_entry.get(), \n",
    "                                                                num_entry.get(),range_entry.get()))\n",
    "    submit_button.pack(pady=20)\n",
    "\n",
    "# 回傳變數\n",
    "def process_selection(choice, percent, n, range_):\n",
    "    \n",
    "    #宣告全域變數才能傳出\n",
    "    global selected_class, percent_value, num_value, range_value\n",
    "\n",
    "    # 資料條件檢驗\n",
    "    try:\n",
    "        if not (0 < float(percent) < 100) or not (0 < float(range_) < 1):\n",
    "            raise ValueError(\"百分比必須大於0且小於100，α必須大於0小於1\")\n",
    "        \n",
    "        # 通過後，回傳浮點數型態\n",
    "        else:\n",
    "            percent_value = float(percent)\n",
    "            range_value = float(range_)\n",
    "        \n",
    "        if not (int(n) > 0):\n",
    "            raise ValueError(\"數量必須大於0\")\n",
    "            \n",
    "        # 通過後，回傳整數型態\n",
    "        else:\n",
    "            num_value = int(n)\n",
    "            \n",
    "    #若驗證未過，顯示error資訊    \n",
    "    except ValueError as e:\n",
    "        show_error_message(str(e))\n",
    "        return\n",
    "\n",
    "    # 切割字串，回傳class\n",
    "    selected_class = extract_class_from_choice(choice)\n",
    "    if selected_class is not None:\n",
    "        print(\"選擇的 Class:\", selected_class)\n",
    "    else:\n",
    "        print(\"無法提取選擇的 Class\")\n",
    "\n",
    "    # 列印回傳資料\n",
    "    print(\"填寫%:\", percent_value, \n",
    "          \"填寫數字:\", num_value,\n",
    "          \"填寫α:\", range_value)\n",
    "    \n",
    "\n",
    "    root.destroy()\n",
    "\n",
    "# 切割class字串出來\n",
    "def extract_class_from_choice(choice):\n",
    "    match = re.search(r\"'([^']*)'\", choice)\n",
    "    return match.group(1) if match else None\n",
    "\n",
    "# 顯示錯誤訊息\n",
    "def show_error_message(message):\n",
    "    error_frame = tk.Toplevel(root)\n",
    "    error_label = tk.Label(error_frame, text=message)\n",
    "    error_label.pack(pady=40)\n",
    "    exit_button = tk.Button(error_frame, text=\"關閉\", command=error_frame.destroy)\n",
    "    exit_button.pack(pady=20)\n",
    "\n",
    "# 執行\n",
    "root = tk.Tk()\n",
    "root.title(\"選擇 CSV 檔案\")\n",
    "\n",
    "open_button = tk.Button(root, text=\"選擇 CSV 檔案\", command=open_file)\n",
    "open_button.pack(pady=20)\n",
    "\n",
    "# 設置視窗高度寬度\n",
    "root.geometry(\"500x200\")\n",
    "root.mainloop()\n",
    "\n",
    "# 印出匯入資料\n",
    "print(df_formal)"
   ]
  },
  {
   "cell_type": "markdown",
   "metadata": {},
   "source": [
    "# 套件"
   ]
  },
  {
   "cell_type": "code",
   "execution_count": 2,
   "metadata": {},
   "outputs": [],
   "source": [
    "# ML套件\n",
    "from sklearn.model_selection import train_test_split # 切割訓練資料\n",
    "from sklearn.ensemble import RandomForestClassifier # 隨機森林套件\n",
    "from sklearn.model_selection import GridSearchCV # 網格搜索\n",
    "\n",
    "from sklearn.model_selection import cross_val_score  # 交互驗證 \n",
    "from sklearn.model_selection import cross_val_predict # 交互驗證的混淆矩陣、分類報告\n",
    "\n",
    "from sklearn.metrics import accuracy_score, classification_report, confusion_matrix \n",
    "# 產生精確度及二元分類模型的分類報告和混淆矩陣\n",
    "\n",
    "# 讀取資料\n",
    "df = pd.read_csv('TEST_ML_淘汰.csv')  # 請將'your_data.csv'替換為實際的資料檔案名稱"
   ]
  },
  {
   "cell_type": "markdown",
   "metadata": {},
   "source": [
    "# 標籤"
   ]
  },
  {
   "cell_type": "code",
   "execution_count": 3,
   "metadata": {},
   "outputs": [],
   "source": [
    "'''各品牌前x%高碳排的汽車進行標籤，且最多標n台'''\n",
    "def filter1_find_eachTarget_front_Xpercent(df, target, x, n, r):  \n",
    "# x是希望抓各品牌前x%, n是希望淘汰數量, r是用在貪婪函式的擴張範圍\n",
    "    \n",
    "    # 計算每個 Make 的 CO2 emissions 的閾值\n",
    "    thresholds = df.groupby(target)['CO2 Emissions(g/km)'].quantile(1-x/100)  #因碳排前高者為大數字，故從後面開始抓\n",
    "\n",
    "    # lambda定義一個拋棄式函數，將每個 Make 的後x% 設置為 1，其餘為 0\n",
    "    # 新增 To_Eliminate 欄位，標記後x% 為 1\n",
    "    df['To_Eliminate'] = df.apply(lambda row: 1 if row['CO2 Emissions(g/km)'] >= thresholds[row[target]] else 0, axis=1)\n",
    "\n",
    "    \n",
    "    '''貪婪演算法函式，以免淘汰車輛超過指定數量輛n台'''\n",
    "    greedy(df, n, r)  \n",
    "    # 微調轉換數量上限，使得產出結果能大於100台，讓使用者自行決定不淘汰之車輛。\n",
    "\n",
    "    '''印出標籤明細'''\n",
    "    to_eliminate_rows = df[df['To_Eliminate'] == 1]\n",
    "    print(\"\\n標籤車輛之明細：\", )\n",
    "    for i in to_eliminate_rows['CO2 Emissions(g/km)']:\n",
    "        print(i,end = ', ')\n",
    "        \n",
    "'''貪婪演算法，確保篩選數量在使用者規定內的同時，能最大化省碳效益'''\n",
    "def greedy(df, n, range_):\n",
    "    # 計算\"To_Eliminate\"列中值為1的數量。To_Eliminate只有0跟1，1的sum就是有1的數量\n",
    "    count_to_determine = df['To_Eliminate'].sum()\n",
    "\n",
    "    # 如果數量超過100，則將最小的碳排車輛標籤轉換為0\n",
    "    n = int(n * (1 + range_)) # 剛剛好的話很容易因為誤差問題而少淘汰，故可以多淘汰而進一步篩選。\n",
    "    if count_to_determine > n:\n",
    "        \n",
    "        df_to_switch = df[df['To_Eliminate'] == 1]\n",
    "\n",
    "        # 根據 CO2 Emissions(g/km) 進行排序，選出最小的那幾輛\n",
    "        df_to_switch = df_to_switch.sort_values(by = 'CO2 Emissions(g/km)').head(count_to_determine - n)\n",
    "\n",
    "        # 將選出的To_Eliminate列的值轉換為 0\n",
    "        df.loc[df_to_switch.index, 'To_Eliminate'] = 0"
   ]
  },
  {
   "cell_type": "code",
   "execution_count": 4,
   "metadata": {},
   "outputs": [
    {
     "name": "stdout",
     "output_type": "stream",
     "text": [
      "\n",
      "標籤車輛之明細：\n",
      "608, 608, 387, 387, 387, 354, 489, 498, 498, 383, 379, 395, 324, 324, 322, 356, 322, 356, 325, 325, 363, 374, 387, 346, 356, 345, 353, 355, 349, 329, 345, 352, 352, 385, 366, 345, 353, 345, 353, 339, 352, 359, 352, 368, 329, 345, 352, 385, 345, 353, 345, 353, 465, 289, 331, 331, 331, 323, 320, 325, 284, 323, 330, 385, 355, 362, 341, 347, 380, 358, 327, 359, 347, 327, 339, 361, 364, 381, 327, 332, 336, 354, 327, 332, 327, 354, 341, 347, 380, 358, 359, 347, 329, 338, 360, 381, 332, 354, 332, 336, 354, 392, 300, 298, 302, 289, 304, 301, 308, 295, 298, 314, 314, 302, 339, 303, 299, 299, 299, 299, 339, 350, 305, 305, 354, 365, 336, 280, 294, 304, 285, 337, 321, 322, 322, 322, 322, 322, 322, 322, 322, 322, 364, 364, 302, 364, 364, 302, 321, 343, 319, 315, 360, 323, 325, 325, 301, 285, 331, 326, 343, 330, 345, 323, 323, 326, 326, 326, 348, 349, 349, 348, 334, 355, 335, 354, 323, 321, 288, 321, 324, 321, 328, 277, 297, 303, 329, 279, 290, 296, 274, 277, 275, 285, 295, 286, 275, 304, 317, 317, 326, 304, 344, 357, 359, 370, 310, 313, 395, 298, 279, 311, 278, 299, 300, 298, 277, 285, 286, 274, 277, 280, 296, 301, 296, 323, 323, 323, 323, 281, 275, 280, 308, 308, 287, 283, 292, 289, 289, 289, 296, 296, 289, 289, 288, 307, 305, 289, 290, 289, 292, 292, 291, 331, 331, 328, 323, 336, 308, 310, 314, 317, 291, 306, 282, "
     ]
    }
   ],
   "source": [
    "filter1_find_eachTarget_front_Xpercent(df, selected_class, float(percent_value), \n",
    "                                       int(num_value)/len(df_formal)*len(df), float(range_value))"
   ]
  },
  {
   "cell_type": "markdown",
   "metadata": {},
   "source": [
    "# Kmeans"
   ]
  },
  {
   "cell_type": "code",
   "execution_count": 5,
   "metadata": {},
   "outputs": [],
   "source": [
    "'''使機器自動辨別各資料間的關聯，再依可能較相關之資料群進行分群'''\n",
    "\n",
    "# ML套件\n",
    "from sklearn.cluster import KMeans\n",
    "\n",
    "def kmeans_(df):\n",
    "    \n",
    "    included = ['Model Year','Engine Size(L)', 'Cylinders']\n",
    "    X = df[included]\n",
    "\n",
    "    model = KMeans(n_clusters = 10, n_init='auto', random_state=1)  # 預計分為10群，迭代次數由模型自行定義\n",
    "    model.fit(X)  # 建立模型\n",
    "\n",
    "    df['Cluster'] = model.labels_  #將分類結果加回df\n",
    "    \n",
    "    return df"
   ]
  },
  {
   "cell_type": "code",
   "execution_count": 6,
   "metadata": {},
   "outputs": [
    {
     "name": "stderr",
     "output_type": "stream",
     "text": [
      "D:\\Anaconda\\lib\\site-packages\\joblib\\externals\\loky\\backend\\context.py:136: UserWarning: Could not find the number of physical cores for the following reason:\n",
      "found 0 physical cores < 1\n",
      "Returning the number of logical cores instead. You can silence this warning by setting LOKY_MAX_CPU_COUNT to the number of cores you want to use.\n",
      "  warnings.warn(\n",
      "  File \"D:\\Anaconda\\lib\\site-packages\\joblib\\externals\\loky\\backend\\context.py\", line 282, in _count_physical_cores\n",
      "    raise ValueError(f\"found {cpu_count_physical} physical cores < 1\")\n",
      "D:\\Anaconda\\lib\\site-packages\\sklearn\\cluster\\_kmeans.py:1440: UserWarning: KMeans is known to have a memory leak on Windows with MKL, when there are less chunks than available threads. You can avoid it by setting the environment variable OMP_NUM_THREADS=4.\n",
      "  warnings.warn(\n"
     ]
    }
   ],
   "source": [
    "# 將訓練資料進行分群，增加可學習特徵，以提高預測準確度\n",
    "df = kmeans_(df)"
   ]
  },
  {
   "cell_type": "markdown",
   "metadata": {},
   "source": [
    "# 特徵工程_方差過濾器 (Variance Threshold)"
   ]
  },
  {
   "cell_type": "code",
   "execution_count": 7,
   "metadata": {},
   "outputs": [
    {
     "name": "stdout",
     "output_type": "stream",
     "text": [
      "被選擇的特徵： Index(['Engine Size(L)', 'Cylinders', 'Cluster'], dtype='object')\n"
     ]
    }
   ],
   "source": [
    "from sklearn.feature_selection import VarianceThreshold\n",
    "\n",
    "\n",
    "'''納入油耗數據'''\n",
    "columns_to_include = ['Model Year', 'Engine Size(L)', 'Cylinders','Cluster']  # 選取特徵資料名稱\n",
    "X = df[columns_to_include]\n",
    "y = df[\"CO2 Emissions(g/km)\"]\n",
    "\n",
    "\n",
    "# 讓機器挑選特徵\n",
    "selector = VarianceThreshold(threshold = 0.1) # 特徵選擇工具，用來過濾掉方差低於某一閾值的x變數\n",
    "X_selected = selector.fit_transform(X) \n",
    "\n",
    "selected_feature_indices = selector.get_support(indices=True)\n",
    "\n",
    "# 根據索引提取被選擇的特徵名稱\n",
    "selected_feature_names = X.columns[selected_feature_indices]\n",
    "\n",
    "# print被選擇的特徵名稱\n",
    "print(\"被選擇的特徵：\", selected_feature_names)"
   ]
  },
  {
   "cell_type": "markdown",
   "metadata": {},
   "source": [
    "# 模型建立、訓練、評估準確度；產出混淆矩陣和分類報告"
   ]
  },
  {
   "cell_type": "code",
   "execution_count": 16,
   "metadata": {},
   "outputs": [
    {
     "name": "stdout",
     "output_type": "stream",
     "text": [
      "grid_search Best Parameters:  {'colsample_bytree': 0.8, 'learning_rate': 0.01, 'max_depth': 5, 'n_estimators': 200, 'subsample': 1.0}\n",
      "grid_search Best Accuracy:  0.8474823422191843\n",
      "Accuracy with Best Model: 0.8450704225352113\n",
      "Confusion Matrix:\n",
      " [[189  13]\n",
      " [ 31  51]]\n",
      "Classification Report:\n",
      "               precision    recall  f1-score   support\n",
      "\n",
      "           0       0.86      0.94      0.90       202\n",
      "           1       0.80      0.62      0.70        82\n",
      "\n",
      "    accuracy                           0.85       284\n",
      "   macro avg       0.83      0.78      0.80       284\n",
      "weighted avg       0.84      0.85      0.84       284\n",
      "\n"
     ]
    }
   ],
   "source": [
    "# 超參數調整是通過嘗試不同的超參數組合，找到模型性能最佳的超參數配置的過程：網格搜索（Grid Search） \n",
    "\n",
    "import xgboost as xgb\n",
    "from sklearn.model_selection import GridSearchCV\n",
    "from sklearn.model_selection import cross_val_score\n",
    "from sklearn.model_selection import train_test_split\n",
    "from sklearn.metrics import accuracy_score\n",
    "\n",
    "# Assuming df is your DataFrame\n",
    "X = df[selected_feature_names]\n",
    "y = df['To_Eliminate']\n",
    "\n",
    "# Split the data into training and testing sets\n",
    "X_train, X_test, y_train, y_test = train_test_split(X, y, test_size=0.3, random_state=42)\n",
    "\n",
    "# Define the parameter grid to search\n",
    "param_grid = {\n",
    "    'max_depth': [3, 5, 7],\n",
    "    'learning_rate': [0.01, 0.1, 0.2],\n",
    "    'n_estimators': [50, 100, 200],\n",
    "    'subsample': [0.8, 0.9, 1.0],\n",
    "    'colsample_bytree': [0.8, 0.9, 1.0]\n",
    "}\n",
    "\n",
    "# Create an XGBoost classifier\n",
    "model = xgb.XGBClassifier(objective=\"binary:logistic\", random_state=42)\n",
    "\n",
    "# Create a GridSearchCV object with cross-validation\n",
    "grid_search = GridSearchCV(estimator=model, param_grid=param_grid, scoring='accuracy', cv=5)\n",
    "\n",
    "# Fit the model to the training data using cross-validation\n",
    "grid_search.fit(X_train, y_train)\n",
    "\n",
    "# Print the best parameters and their corresponding accuracy\n",
    "print(\"grid_search Best Parameters: \", grid_search.best_params_)\n",
    "print(\"grid_search Best Accuracy: \", grid_search.best_score_)\n",
    "\n",
    "# Use the best model for predictions\n",
    "best_model = grid_search.best_estimator_\n",
    "y_pred = best_model.predict(X_test)\n",
    "\n",
    "# 評估最佳模型的性能\n",
    "accuracy = accuracy_score(y_test, y_pred)\n",
    "conf_matrix = confusion_matrix(y_test, y_pred)\n",
    "class_report = classification_report(y_test, y_pred)\n",
    "\n",
    "print(f'Accuracy with Best Model: {accuracy}')\n",
    "print(\"Confusion Matrix:\\n\", conf_matrix)\n",
    "print(\"Classification Report:\\n\", class_report)"
   ]
  },
  {
   "cell_type": "markdown",
   "metadata": {},
   "source": [
    "1. True Positive (TP): 有51個實際為1（要淘汰），且模型正確預測為1。\n",
    "2. True Negative (TN): 有175個實際為0（不淘汰），且模型正確預測為0。\n",
    "3. False Positive (FP): 有1個實際為0（不淘汰），但模型誤將其預測為1。\n",
    "4. False Negative (FN): 沒有實際為1（要淘汰），但模型誤將其預測為1。"
   ]
  },
  {
   "cell_type": "markdown",
   "metadata": {},
   "source": [
    "1. Precision: 預測為1的樣本中，有98%是真正要淘汰的車輛。\n",
    "2. Recall (Sensitivity): 實際要淘汰的車輛中，有100%被模型成功找出。\n",
    "3. F1-Score: Precision和Recall的調和平均數，是一個綜合考慮Precision和Recall的指標。\n",
    "4. Support: 每個類別的實際樣本數。\n",
    "5. Accuracy: 整體預測的正確率，這裡是1.00表示100%正確預測。\n",
    "\n",
    "總體來說，這個模型在測試集上表現非常好，具有高的準確性、高的Precision和Recall，但請注意，這樣的結果也可能是由於類別不平衡所致，即\"不要淘汰\"的樣本比\"要淘汰\"的樣本多。在實際應用中，需要進一步確保模型的穩健性和泛化性。"
   ]
  },
  {
   "cell_type": "markdown",
   "metadata": {},
   "source": [
    "# RESULT: input, prediction and output"
   ]
  },
  {
   "cell_type": "code",
   "execution_count": 9,
   "metadata": {},
   "outputs": [],
   "source": [
    "def predict_NoFA(df):\n",
    "    \n",
    "    # 分群函式\n",
    "    kmeans_(df)\n",
    "    \n",
    "    # 特徵放入X\n",
    "    input_X = df[selected_feature_names]\n",
    "\n",
    "    # 進行預測\n",
    "    predictions = best_model.predict(input_X)\n",
    "\n",
    "    # 將預測結果加入新的資料集\n",
    "    df['To_Eliminate'] = predictions\n",
    "    return df"
   ]
  },
  {
   "cell_type": "code",
   "execution_count": 10,
   "metadata": {},
   "outputs": [],
   "source": [
    "def output_(df):\n",
    "\n",
    "    # 计算 To_Eliminate 为 1 的项的 CO2 Emissions(g/km) 加总\n",
    "    Q_eliminate = df['To_Eliminate'].sum()\n",
    "    sum_co2_to_eliminate = df.loc[df['To_Eliminate'] == 1, 'CO2 Emissions(g/km)'].sum()\n",
    "    average_co2_to_eliminate = df.loc[df['To_Eliminate'] == 1, 'CO2 Emissions(g/km)'].mean()\n",
    "\n",
    "    # 印出淘汰數量，節省加總，節省平均\n",
    "    print(\"欲淘汰數量：\", Q_eliminate,\"輛\"\n",
    "          f\"\\n節省 CO2 Emissions 加總：{sum_co2_to_eliminate}g/km\"\n",
    "          f\"\\n節省 CO2 Emissions 平均：{round(average_co2_to_eliminate, 2)}g/km\"\n",
    "          f\"\\n節省 CO2 Emissions 每年{sum_co2_to_eliminate*10000/1000000}噸，\",\n",
    "          f\"大約等於 {round(sum_co2_to_eliminate*10000/1000000/189, 2)} 公頃的樟樹固碳能力\")\n",
    "\n",
    "    # 印出淘汰碳排明細\n",
    "    to_eliminate_rows = df[df['To_Eliminate'] == 1]\n",
    "    print(\"\\n欲淘汰車輛之碳排明細：\", )\n",
    "    for i in to_eliminate_rows['CO2 Emissions(g/km)']:\n",
    "        print(i,end = ', ')\n",
    "    \n",
    "    # 將報告保存為CSV文件\n",
    "    df.to_csv('FinalData_eliminated_cars_report.csv', index=False)\n",
    "    print()"
   ]
  },
  {
   "cell_type": "markdown",
   "metadata": {},
   "source": [
    "# 根據企業資料，反饋淘汰資料"
   ]
  },
  {
   "cell_type": "code",
   "execution_count": 12,
   "metadata": {},
   "outputs": [
    {
     "name": "stdout",
     "output_type": "stream",
     "text": [
      "欲淘汰數量： 312 輛\n",
      "節省 CO2 Emissions 加總：100723g/km\n",
      "節省 CO2 Emissions 平均：322.83g/km\n",
      "節省 CO2 Emissions 每年1007.23噸， 大約等於 5.33 公頃的樟樹固碳能力\n",
      "\n",
      "欲淘汰車輛之碳排明細：\n",
      "255, 267, 359, 359, 338, 354, 338, 354, 359, 260, 288, 361, 336, 407, 336, 407, 306, 308, 290, 281, 281, 297, 297, 356, 320, 380, 322, 380, 380, 437, 281, 292, 292, 281, 292, 292, 292, 356, 292, 292, 338, 317, 338, 317, 338, 317, 338, 317, 320, 370, 324, 382, 340, 382, 340, 382, 340, 338, 322, 377, 354, 294, 292, 382, 340, 276, 258, 366, 334, 380, 344, 380, 344, 380, 362, 380, 344, 380, 362, 414, 432, 411, 419, 435, 413, 292, 270, 324, 299, 277, 329, 317, 294, 317, 294, 317, 294, 317, 294, 294, 308, 317, 301, 294, 320, 317, 294, 308, 317, 331, 373, 350, 396, 360, 386, 368, 421, 382, 281, 368, 346, 366, 402, 283, 264, 283, 264, 336, 315, 336, 315, 308, 288, 308, 288, 343, 320, 340, 318, 414, 235, 244, 264, 292, 304, 244, 366, 334, 380, 344, 380, 344, 380, 362, 380, 344, 380, 362, 414, 432, 411, 419, 435, 413, 292, 270, 324, 299, 277, 329, 317, 294, 317, 294, 338, 322, 377, 354, 317, 294, 317, 294, 304, 235, 248, 265, 269, 283, 255, 267, 253, 283, 267, 294, 271, 294, 334, 345, 294, 306, 290, 306, 306, 280, 306, 280, 306, 306, 301, 290, 315, 310, 315, 310, 340, 363, 421, 354, 347, 342, 345, 338, 331, 354, 347, 342, 320, 290, 283, 297, 297, 262, 380, 260, 281, 281, 262, 368, 346, 347, 352, 334, 283, 290, 347, 352, 304, 308, 264, 301, 301, 267, 269, 262, 297, 310, 297, 310, 419, 407, 350, 359, 363, 327, 356, 278, 276, 304, 269, 292, 327, 246, 380, 361, 361, 253, 264, 262, 269, 380, 359, 398, 232, 246, 237, 246, 242, 253, 232, 246, 225, 239, 320, 299, 315, 225, 239, 292, 294, 297, 340, 313, 354, 324, 368, 368, 359, 384, 329, 356, 347, 373, \n"
     ]
    },
    {
     "name": "stderr",
     "output_type": "stream",
     "text": [
      "D:\\Anaconda\\lib\\site-packages\\sklearn\\cluster\\_kmeans.py:1440: UserWarning: KMeans is known to have a memory leak on Windows with MKL, when there are less chunks than available threads. You can avoid it by setting the environment variable OMP_NUM_THREADS=5.\n",
      "  warnings.warn(\n"
     ]
    }
   ],
   "source": [
    "predict_NoFA(df_formal)\n",
    "output_(df_formal)  # 程式碼在標籤那裏"
   ]
  },
  {
   "cell_type": "markdown",
   "metadata": {},
   "source": [
    "### Testing"
   ]
  },
  {
   "cell_type": "code",
   "execution_count": 13,
   "metadata": {},
   "outputs": [],
   "source": [
    "# 計算每個 Make 的 CO2 emissions 的閾值\n",
    "thresholds = df_formal.groupby(selected_class)['CO2 Emissions(g/km)'].quantile(int(1-float(percent_value)/100))  \n",
    "#因碳排前高者為大數字，故從後面開始抓\n",
    "\n",
    "# lambda定義一個拋棄式函數，將每個 Make 的後x% 設置為 1，其餘為 0\n",
    "# 新增 To_Eliminate 欄位，標記後x% 為 1\n",
    "df_formal['right_label'] = df_formal.apply(lambda row: \n",
    "                                           1 if row['CO2 Emissions(g/km)'] >= thresholds[row[selected_class]] \n",
    "                                           else 0, axis=1)\n",
    "\n",
    "    \n",
    "'''貪婪演算法函式，以免淘汰車輛超過指定數量輛n台'''\n",
    "# 計算\"To_Eliminate\"列中值為1的數量。To_Eliminate只有0跟1，1的sum就是有一個數量\n",
    "count_to_determine = df_formal['right_label'].sum()\n",
    "\n",
    "# 如果數量超過100，則將最小的碳排車輛標籤轉換為0\n",
    "n = len(df_formal[df_formal['To_Eliminate'] == 1]) # 剛剛好的話很容易因為誤差問題而少淘汰，故可以多淘汰而進一步篩選。\n",
    "if count_to_determine > n:\n",
    "        \n",
    "    df_to_switch = df_formal[df_formal['right_label'] == 1]\n",
    "\n",
    "    # 根據 CO2 Emissions(g/km) 進行排序，選出最小的那幾輛\n",
    "    df_to_switch = df_to_switch.sort_values(by = 'CO2 Emissions(g/km)').head(count_to_determine - n)\n",
    "\n",
    "    # 將選出的To_Eliminate列的值轉換為 0\n",
    "    df_formal.loc[df_to_switch.index, 'right_label'] = 0"
   ]
  },
  {
   "cell_type": "code",
   "execution_count": 14,
   "metadata": {},
   "outputs": [
    {
     "name": "stdout",
     "output_type": "stream",
     "text": [
      "~Testing Report~\n",
      "\n",
      "testing模型準確度: 87.629%\n",
      "Confusion Matrix:\n",
      " [[689  66]\n",
      " [ 66 246]]\n",
      "\n",
      "Classification Report:\n",
      "               precision    recall  f1-score   support\n",
      "\n",
      "           0       0.91      0.91      0.91       755\n",
      "           1       0.79      0.79      0.79       312\n",
      "\n",
      "    accuracy                           0.88      1067\n",
      "   macro avg       0.85      0.85      0.85      1067\n",
      "weighted avg       0.88      0.88      0.88      1067\n",
      "\n"
     ]
    }
   ],
   "source": [
    "print('~Testing Report~\\n')\n",
    "\n",
    "# 與標籤相同之程度\n",
    "different_values_count = (df_formal['To_Eliminate'] != df_formal['right_label']).sum()\n",
    "print(f\"testing模型準確度: {round((1-(different_values_count)/len(df_formal))*100,3)}%\")\n",
    "\n",
    "# 混淆矩陣及分類報告\n",
    "print(\"Confusion Matrix:\\n\", confusion_matrix(df_formal['right_label'], df_formal['To_Eliminate']))  # 後為預測\n",
    "print(\"\\nClassification Report:\\n\", classification_report(df_formal['right_label'], df_formal['To_Eliminate']))"
   ]
  },
  {
   "cell_type": "code",
   "execution_count": null,
   "metadata": {},
   "outputs": [],
   "source": []
  },
  {
   "cell_type": "code",
   "execution_count": null,
   "metadata": {},
   "outputs": [],
   "source": []
  },
  {
   "cell_type": "code",
   "execution_count": null,
   "metadata": {},
   "outputs": [],
   "source": []
  },
  {
   "cell_type": "code",
   "execution_count": null,
   "metadata": {},
   "outputs": [],
   "source": []
  },
  {
   "cell_type": "code",
   "execution_count": null,
   "metadata": {},
   "outputs": [],
   "source": []
  },
  {
   "cell_type": "code",
   "execution_count": null,
   "metadata": {},
   "outputs": [],
   "source": []
  },
  {
   "cell_type": "code",
   "execution_count": null,
   "metadata": {},
   "outputs": [],
   "source": []
  },
  {
   "cell_type": "code",
   "execution_count": null,
   "metadata": {},
   "outputs": [],
   "source": []
  },
  {
   "cell_type": "code",
   "execution_count": null,
   "metadata": {},
   "outputs": [],
   "source": [
    "df_normal"
   ]
  },
  {
   "cell_type": "code",
   "execution_count": null,
   "metadata": {},
   "outputs": [],
   "source": []
  },
  {
   "cell_type": "code",
   "execution_count": null,
   "metadata": {},
   "outputs": [],
   "source": []
  },
  {
   "cell_type": "code",
   "execution_count": null,
   "metadata": {},
   "outputs": [],
   "source": []
  }
 ],
 "metadata": {
  "kernelspec": {
   "display_name": "Python 3",
   "language": "python",
   "name": "python3"
  },
  "language_info": {
   "codemirror_mode": {
    "name": "ipython",
    "version": 3
   },
   "file_extension": ".py",
   "mimetype": "text/x-python",
   "name": "python",
   "nbconvert_exporter": "python",
   "pygments_lexer": "ipython3",
   "version": "3.8.3"
  }
 },
 "nbformat": 4,
 "nbformat_minor": 4
}
