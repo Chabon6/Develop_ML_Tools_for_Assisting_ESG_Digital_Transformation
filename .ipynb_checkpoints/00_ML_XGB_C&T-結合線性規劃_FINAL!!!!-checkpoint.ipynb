{
 "cells": [
  {
   "cell_type": "markdown",
   "metadata": {},
   "source": [
    "# 前處理"
   ]
  },
  {
   "cell_type": "markdown",
   "metadata": {},
   "source": [
    "1. XGBoost不用處理缺失值，因此不用刪缺失\n",
    "2. kmeans要記得不要納入weight，因為有缺失值\n",
    "3. 不要學生化殘差，不要第二階段訓練"
   ]
  },
  {
   "cell_type": "code",
   "execution_count": 6,
   "metadata": {},
   "outputs": [],
   "source": [
    "# 資料處理套件\n",
    "import pandas as pd\n",
    "\n",
    "# 讀取資料\n",
    "df_combined = pd.read_excel('curb_weight_bigdata.xlsx') \n"
   ]
  },
  {
   "cell_type": "code",
   "execution_count": 7,
   "metadata": {},
   "outputs": [],
   "source": [
    "'''使機器自動辨別各資料間的關聯，再依可能較相關之資料群進行分群'''\n",
    "\n",
    "# ML套件\n",
    "from sklearn.cluster import KMeans\n",
    "\n",
    "def kmeans_(df):\n",
    "    \n",
    "    included = ['Engine Size(L)', 'Cylinders']\n",
    "    X = df[included]\n",
    "\n",
    "    model = KMeans(n_clusters = 5, n_init='auto', random_state=1)  # 預計分為5群，迭代次數由模型自行定義\n",
    "    model.fit(X)  # 建立模型\n",
    "\n",
    "    df['Cluster'] = model.labels_  #將分類結果加回df\n",
    "    \n",
    "    return df\n",
    "\n",
    "# 將訓練資料進行分群，增加可學習特徵，以提高預測準確度\n",
    "df_combined = kmeans_(df_combined)"
   ]
  },
  {
   "cell_type": "markdown",
   "metadata": {},
   "source": [
    "# Two-step Training and Fold-Validation"
   ]
  },
  {
   "cell_type": "code",
   "execution_count": 8,
   "metadata": {},
   "outputs": [],
   "source": [
    "import xgboost as xgb\n",
    "import numpy as np\n",
    "import statsmodels.api as sm  #學生化殘差\n",
    "\n",
    "'''第一階段訓練'''  \n",
    "\n",
    "best_params =  {'colsample_bytree': 0.8, 'learning_rate': 0.1, 'max_depth': 9, 'n_estimators': 100, 'subsample': 0.8}\n",
    "\n",
    "def first_step_training(df, best_params):  \n",
    "    \n",
    "    X = df[['Engine Size(L)', 'Cylinders', 'Cluster', 'weight']]\n",
    "    y = df['CO2 Emissions(g/km)']\n",
    "    \n",
    "    # 使用最佳超參數建立模型\n",
    "    best_model = xgb.XGBRegressor(**best_params)\n",
    "\n",
    "    # 使用最佳超參數對完整的資料進行訓練\n",
    "    best_model.fit(X, y)\n",
    "\n",
    "    # 計算預測值\n",
    "    y_pred = best_model.predict(X)\n",
    "\n",
    "    # 再次分割X和y\n",
    "    X_filtered = df[['Engine Size(L)', 'Cylinders', 'Cluster', 'weight']]\n",
    "    y_filtered = df['CO2 Emissions(g/km)']\n",
    "    \n",
    "    return X_filtered, y_filtered\n",
    "\n",
    "'''第二階段訓練，以studentized的資料集進行訓練'''\n",
    "\n",
    "\n",
    "   \n",
    "def second_step_training(X_filtered, y_filtered, best_params):  \n",
    "    \n",
    "    # 使用最佳超參數建立模型\n",
    "    best_model = xgb.XGBRegressor(**best_params)\n",
    "\n",
    "    # 使用最佳超參數對完整的資料進行訓練\n",
    "    return best_model.fit(X_filtered, y_filtered)\n",
    "\n",
    "X_filtered, y_filtered = first_step_training(df_combined, best_params)\n",
    "\n",
    "best_model = second_step_training(X_filtered, y_filtered, best_params)"
   ]
  },
  {
   "cell_type": "code",
   "execution_count": 9,
   "metadata": {},
   "outputs": [
    {
     "name": "stdout",
     "output_type": "stream",
     "text": [
      "R^2 = 0.82\n"
     ]
    },
    {
     "data": {
      "image/png": "[encoded data removed]",
      "text/plain": [
       "<Figure size 432x288 with 1 Axes>"
      ]
     },
     "metadata": {
      "needs_background": "light"
     },
     "output_type": "display_data"
    }
   ],
   "source": [
    "import matplotlib.pyplot as plt\n",
    "from sklearn.model_selection import learning_curve\n",
    "\n",
    "def plot_learning_curve_r2(estimator, title, X, y, ylim=None, cv=None, n_jobs=1, train_sizes=np.linspace(.1, 1.0, 5)):\n",
    "    plt.figure()\n",
    "    plt.title(title)\n",
    "    if ylim is not None:\n",
    "        plt.ylim(*ylim)\n",
    "    plt.xlabel(\"Training examples\")\n",
    "    plt.ylabel(\"R^2\")\n",
    "    train_sizes, train_scores, test_scores = learning_curve(\n",
    "        estimator, X, y, cv=cv, scoring='r2', n_jobs=n_jobs, train_sizes=train_sizes)\n",
    "    train_scores_mean = np.mean(train_scores, axis=1)\n",
    "    train_scores_std = np.std(train_scores, axis=1)\n",
    "    test_scores_mean = np.mean(test_scores, axis=1)\n",
    "    test_scores_std = np.std(test_scores, axis=1)\n",
    "    plt.grid()\n",
    "\n",
    "    plt.fill_between(train_sizes, train_scores_mean - train_scores_std,\n",
    "                     train_scores_mean + train_scores_std, alpha=0.1, color=\"#8737ED\")  # Purple color\n",
    "    plt.fill_between(train_sizes, test_scores_mean - test_scores_std,\n",
    "                     test_scores_mean + test_scores_std, alpha=0.1, color=\"#0091DA\")  # Blue color\n",
    "    plt.plot(train_sizes, train_scores_mean, 'o-', color=\"#8737ED\",  # Purple color\n",
    "             label=\"Training R^2\")\n",
    "    plt.plot(train_sizes, test_scores_mean, 'o-', color=\"#0091DA\",  # Blue color\n",
    "             label=\"Cross-validation R^2\")\n",
    "    \n",
    "    # Get the rightmost point\n",
    "    rightmost_point = (train_sizes[-1], test_scores_mean[-1])\n",
    "    print(f'R^2 = {rightmost_point[1]:.2f}')\n",
    "    \n",
    "    plt.legend(loc=\"best\")\n",
    "    return plt\n",
    "\n",
    "# 使用第二階段的最佳模型進行學習曲線繪製\n",
    "title_second_stage = \"Learning Curves (XGBoost)\"\n",
    "plot_learning_curve_r2(best_model, title_second_stage, X_filtered, y_filtered, cv=5, ylim=(0.0, 1.01), n_jobs=1)\n",
    "\n",
    "plt.show()\n"
   ]
  },
  {
   "cell_type": "raw",
   "metadata": {},
   "source": [
    "import xgboost as xgb\n",
    "import numpy as np\n",
    "import statsmodels.api as sm  #學生化殘差\n",
    "\n",
    "'''第一階段訓練'''  \n",
    "\n",
    "best_params =  {'colsample_bytree': 0.8, 'learning_rate': 0.1, 'max_depth': 9, 'n_estimators': 100, 'subsample': 0.8}\n",
    "\n",
    "def first_step_training(df, best_params):  \n",
    "    \n",
    "    X = df[['Engine Size(L)', 'Cylinders', 'Cluster', 'weight']]\n",
    "    y = df['CO2 Emissions(g/km)']\n",
    "    \n",
    "    # 使用最佳超參數建立模型\n",
    "    best_model = xgb.XGBRegressor(**best_params)\n",
    "\n",
    "    # 使用最佳超參數對完整的資料進行訓練\n",
    "    best_model.fit(X, y)\n",
    "\n",
    "    # 計算預測值\n",
    "    y_pred = best_model.predict(X)\n",
    "\n",
    "    '''學生化殘差，並刪除離群值'''\n",
    "    # 使用statsmodels的OLSResults計算學生化殘差\n",
    "    ols_results = sm.OLS(y - y_pred, sm.add_constant(X)).fit()\n",
    "    ols_influence = ols_results.get_influence()\n",
    "    studentized_residuals = ols_influence.resid_studentized_internal\n",
    "\n",
    "    # 將學生化殘差添加到df\n",
    "    df['Studentized_Residuals'] = studentized_residuals\n",
    "\n",
    "    # 刪除學生化殘差超過正負2範圍的觀察值\n",
    "    df_filtered = df[(df['Studentized_Residuals'] >= -2) & (df['Studentized_Residuals'] <= 2)]\n",
    "\n",
    "    # 再次分割X和y\n",
    "    X_filtered = df_filtered[['Engine Size(L)', 'Cylinders', 'Cluster', 'weight']]\n",
    "    y_filtered = df_filtered['CO2 Emissions(g/km)']\n",
    "    \n",
    "    return X_filtered, y_filtered\n",
    "\n",
    "'''第二階段訓練，以studentized的資料集進行訓練'''\n",
    "\n",
    "best_params = {'colsample_bytree': 0.8, 'learning_rate': 0.1, 'max_depth': 10, 'n_estimators': 100, 'subsample': 0.8}\n",
    "   \n",
    "def second_step_training(X_filtered, y_filtered, best_params):  \n",
    "    \n",
    "    # 使用最佳超參數建立模型\n",
    "    best_model = xgb.XGBRegressor(**best_params)\n",
    "\n",
    "    # 使用最佳超參數對完整的資料進行訓練\n",
    "    return best_model.fit(X_filtered, y_filtered)\n",
    "\n",
    "X_filtered, y_filtered = first_step_training(df_combined, best_params)\n",
    "\n",
    "best_model = second_step_training(X_filtered, y_filtered, best_params)"
   ]
  },
  {
   "cell_type": "markdown",
   "metadata": {},
   "source": [
    "# 正式Testing"
   ]
  },
  {
   "cell_type": "code",
   "execution_count": 10,
   "metadata": {},
   "outputs": [],
   "source": [
    "'''以2022年，分類好的資料進行testing'''\n",
    "\n",
    "def input_preprocess(file_path):\n",
    "    # 讀取excel\n",
    "    xls = pd.ExcelFile(file_path)\n",
    "    sheets = xls.sheet_names\n",
    "\n",
    "    # 基於 '資料集' 工作表創建一個新的 df\n",
    "    df = pd.read_excel(xls, sheet_name='資料集')\n",
    "\n",
    "    for sheet in ['Special Purpose', 'Pickup', '2-seater', '豪車', 'Large', 'Medium', 'Small']:\n",
    "        # 將每個工作表的資料加入到 df 中，使用 1 和 0 表示是否在該工作表中\n",
    "        df[sheet] = (df['Model'].isin(xls.parse(sheet)['Model'])).astype(int)\n",
    "    \n",
    "    return df\n",
    "    \n",
    "file_path = '車重合併一.xlsx'   # 1208車重資料集 + Final_split_data\n",
    "df_formal = input_preprocess(file_path)"
   ]
  },
  {
   "cell_type": "code",
   "execution_count": 11,
   "metadata": {},
   "outputs": [
    {
     "name": "stdout",
     "output_type": "stream",
     "text": [
      "1. Test R^2: 0.8028543771527638\n",
      "2. Test MAE: 20.722248819363294\n"
     ]
    },
    {
     "name": "stderr",
     "output_type": "stream",
     "text": [
      "D:\\Anaconda\\lib\\site-packages\\sklearn\\cluster\\_kmeans.py:1440: UserWarning: KMeans is known to have a memory leak on Windows with MKL, when there are less chunks than available threads. You can avoid it by setting the environment variable OMP_NUM_THREADS=4.\n",
      "  warnings.warn(\n"
     ]
    }
   ],
   "source": [
    "from sklearn.metrics import r2_score, mean_absolute_error\n",
    "\n",
    "def predict_(df_formal, best_model):\n",
    "    \n",
    "    # 用 k-means 自動分群\n",
    "    df_formal = kmeans_(df_formal)\n",
    "    \n",
    "    X_formal = df_formal[['Engine Size(L)', 'Cylinders', 'Cluster', 'weight']]\n",
    "    y_formal = df_formal['CO2 Emissions(g/km)']\n",
    "\n",
    "    # 最終資料集預測\n",
    "    y_formal_pred = best_model.predict(X_formal)\n",
    "\n",
    "    # 計算及輸出預測性能指標\n",
    "    print(f\"1. Test R^2: {r2_score(y_formal, y_formal_pred)}\")\n",
    "    print(f\"2. Test MAE: {mean_absolute_error(y_formal, y_formal_pred)}\")\n",
    "\n",
    "    # 新增預測值欄位到 DataFrame\n",
    "    df_formal['Predicted_CO2'] = y_formal_pred\n",
    "\n",
    "    return df_formal\n",
    "\n",
    "# 分別用 car 跟 truck 的專屬 model 進行預測\n",
    "df_formal = predict_(df_formal, best_model)"
   ]
  },
  {
   "cell_type": "markdown",
   "metadata": {},
   "source": [
    "# 線性規劃"
   ]
  },
  {
   "cell_type": "code",
   "execution_count": 12,
   "metadata": {},
   "outputs": [],
   "source": [
    "from pulp import LpProblem, LpVariable, lpSum, LpMaximize, value\n",
    "\n",
    "def LN(df, co2COL, pickCOL):\n",
    "    # 將欄位名稱依序替換\n",
    "    df.rename(columns={\n",
    "        'Special Purpose': 'SP',\n",
    "        'Pickup': 'PK',\n",
    "        '2-seater': 'SEAT',\n",
    "        '豪車': 'Lux',\n",
    "        'Large': 'L',\n",
    "        'Medium': 'M',\n",
    "        'Small': 'S'\n",
    "    }, inplace=True)\n",
    "    \n",
    "    # 創建 PuLP 線性規劃模型\n",
    "    model = LpProblem(name=\"Maximize-CO2-Emissions\", sense=LpMaximize)\n",
    "\n",
    "    # 創建二元變數，表示每輛車是否被選中\n",
    "    selection_vars = [LpVariable(f'Selection_{i}', cat='Binary') for i in range(len(df))]\n",
    "    \n",
    "    limits_values = {'SP': {'上限': '50', '下限': '0'}, 'PK': {'上限': '70', '下限': '14'},\n",
    "                     'SEAT': {'上限': '50', '下限': '0'}, 'Lux': {'上限': '0', '下限': '0'}, \n",
    "                     'L': {'上限': '60', '下限': '17'}, 'M': {'上限': '70', '下限': '26'}, \n",
    "                     'S': {'上限': '80', '下限': '28'}}\n",
    "    \n",
    "    # 限制式: 每一種類所挑選數量的限制\n",
    "    for key, limits in limits_values.items():\n",
    "        indices = list(df.index[df[key] == 1])\n",
    "        lower_limit = int(limits['下限'])\n",
    "        upper_limit = int(limits['上限'])\n",
    "        model += lpSum(selection_vars[i] for i in indices) >= lower_limit, f\"{key} lower limit\"\n",
    "        model += lpSum(selection_vars[i] for i in indices) <= upper_limit, f\"{key} upper limit\"\n",
    "\n",
    "    # 限制式: SP+PK+SEAT+L+M+S=100 (淘汰100台)\n",
    "    model += lpSum(selection_vars) == 300, \"Total 300 vehicles\"\n",
    "\n",
    "    # 目標式: 最大化 CO2 排放量\n",
    "    model += lpSum(df[co2COL] * selection_vars)\n",
    "\n",
    "    # 解決模型\n",
    "    model.solve()\n",
    "\n",
    "    # 將選中的車輛標記到新的 'select' 欄位中\n",
    "    df[pickCOL] = [value(var) for var in selection_vars]\n",
    "    \n",
    "    return df"
   ]
  },
  {
   "cell_type": "code",
   "execution_count": 13,
   "metadata": {},
   "outputs": [],
   "source": [
    "df_formal = LN(df_formal, 'Predicted_CO2', 'select')\n",
    "\n",
    "df_compare = input_preprocess('Final_split_data.xlsx')\n",
    "df_compare = LN(df_compare, 'CO2 Emissions(g/km)', 'Eliminated')"
   ]
  },
  {
   "cell_type": "markdown",
   "metadata": {},
   "source": [
    "# testing之預測性能比較"
   ]
  },
  {
   "cell_type": "code",
   "execution_count": 14,
   "metadata": {},
   "outputs": [],
   "source": [
    "'''將預測產出df與直接產出df匹配後合併'''\n",
    "# 選擇用於匹配的欄位\n",
    "matching_columns = ['Make', 'Model', 'Vehicle Class', 'Engine Size(L)', 'Cylinders', 'Transmission']\n",
    "\n",
    "# 進行匹配\n",
    "merged_df = pd.merge(df_compare, df_formal, how='inner', on=matching_columns)"
   ]
  },
  {
   "cell_type": "code",
   "execution_count": 15,
   "metadata": {},
   "outputs": [
    {
     "name": "stdout",
     "output_type": "stream",
     "text": [
      "Confusion Matrix:\n",
      " [[589  63]\n",
      " [ 62 260]]\n",
      "\n",
      "Classification Report:\n",
      "               precision    recall  f1-score   support\n",
      "\n",
      "         0.0       0.90      0.90      0.90       652\n",
      "         1.0       0.80      0.81      0.81       322\n",
      "\n",
      "    accuracy                           0.87       974\n",
      "   macro avg       0.85      0.86      0.86       974\n",
      "weighted avg       0.87      0.87      0.87       974\n",
      "\n"
     ]
    }
   ],
   "source": [
    "from sklearn.metrics import confusion_matrix, precision_recall_fscore_support, classification_report\n",
    "\n",
    "# 提取真實情況和預測情況的欄資料\n",
    "y_true = merged_df['Eliminated']  \n",
    "y_pred = merged_df['select']\n",
    "\n",
    "# 混淆矩陣及分類報告\n",
    "print(\"Confusion Matrix:\\n\", confusion_matrix(y_true, y_pred))  # 後為預測\n",
    "print(\"\\nClassification Report:\\n\", classification_report(y_true, y_pred))"
   ]
  },
  {
   "cell_type": "code",
   "execution_count": 16,
   "metadata": {},
   "outputs": [],
   "source": [
    "def output_(df, col, co2):\n",
    "\n",
    "    # 計算 To_Eliminate 為 1 的 CO2 Emissions(g/km) 加總\n",
    "    Q_eliminate = df[col].sum()\n",
    "    sum_co2_to_eliminate = df.loc[df[col] == 1, co2].sum()\n",
    "    average_co2_to_eliminate = df.loc[df[col] == 1, co2].mean()\n",
    "    year_co2_to_eliminate = sum_co2_to_eliminate*41.1*1.6*365/1000000\n",
    "                # 交通部統計：每次41.1km，每天1.6次 = 每年2.4萬公里。g換算為噸。\n",
    "    \n",
    "    # 印出淘汰數量，節省加總，節省平均\n",
    "    print(\"欲淘汰數量：\", Q_eliminate,\"輛\"\n",
    "          f\"\\n節省 CO2 Emissions 加總：{sum_co2_to_eliminate}g/km\"\n",
    "          f\"\\n節省 CO2 Emissions 平均：{round(average_co2_to_eliminate, 2)}g/km\"\n",
    "          f\"\\n節省 CO2 Emissions 每年{year_co2_to_eliminate}噸，\",\n",
    "          f\"大約等於 {round(year_co2_to_eliminate/189, 2)} 公頃的樟樹固碳能力\")   \n",
    "\n",
    "\n",
    "    # 印出淘汰碳排明細\n",
    "    to_eliminate_rows = df[df[col] == 1]\n",
    "    print(\"\\n欲淘汰車輛之碳排明細：\", )\n",
    "    for i in to_eliminate_rows['CO2 Emissions(g/km)']:\n",
    "        print(i,end = ', ')\n",
    "    \n",
    "    # 將報告保存為CSV文件\n",
    "    df.to_csv('FinalData_eliminated_cars_report.csv', index=False)\n",
    "    print()\n",
    "    \n",
    "    return(year_co2_to_eliminate)"
   ]
  },
  {
   "cell_type": "code",
   "execution_count": 17,
   "metadata": {},
   "outputs": [
    {
     "name": "stdout",
     "output_type": "stream",
     "text": [
      "------------------------預測結果------------------------\n",
      "欲淘汰數量： 300.0 輛\n",
      "節省 CO2 Emissions 加總：86528.71875g/km\n",
      "節省 CO2 Emissions 平均：288.43g/km\n",
      "節省 CO2 Emissions 每年2076.8969189250006噸， 大約等於 10.99 公頃的樟樹固碳能力\n",
      "\n",
      "欲淘汰車輛之碳排明細：\n",
      "279, 321, 189, 374, 353, 325, 325, 294, 364, 302, 311, 288, 346, 356, 465, 299, 364, 302, 299, 323, 317, 387, 301, 296, 271, 368, 296, 392, 271, 268, 270, 353, 353, 303, 292, 323, 292, 286, 293, 323, 355, 326, 363, 293, 286, 264, 256, 355, 349, 353, 297, 329, 345, 352, 352, 385, 366, 277, 233, 287, 339, 352, 359, 352, 353, 223, 354, 227, 227, 354, 241, 314, 305, 252, 247, 323, 241, 219, 332, 262, 209, 361, 364, 381, 297, 303, 215, 331, 314, 347, 327, 339, 323, 241, 352, 304, 354, 280, 214, 327, 336, 345, 260, 385, 329, 331, 337, 262, 233, 327, 359, 345, 302, 339, 354, 380, 358, 327, 332, 336, 345, 218, 261, 272, 327, 332, 327, 345, 347, 326, 256, 274, 317, 341, 321, 327, 332, 327, 345, 227, 218, 245, 341, 321, 314, 304, 385, 279, 199, 358, 362, 259, 230, 304, 301, 305, 305, 326, 266, 212, 281, 263, 380, 222, 347, 329, 207, 238, 359, 360, 239, 244, 305, 305, 325, 206, 286, 253, 230, 231, 381, 329, 327, 318, 347, 252, 251, 262, 338, 330, 282, 253, 195, 296, 195, 331, 253, 308, 295, 289, 252, 254, 221, 247, 210, 275, 261, 230, 325, 284, 267, 321, 320, 275, 267, 210, 289, 300, 207, 331, 265, 323, 395, 314, 262, 233, 273, 213, 296, 219, 230, 232, 280, 219, 194, 285, 298, 182, 217, 178, 289, 232, 216, 300, 252, 259, 266, 245, 213, 218, 249, 211, 302, 209, 216, 289, 275, 277, 291, 185, 186, 231, 307, 325, 323, 266, 288, 194, 262, 254, 263, 224, 222, 199, 263, 224, 247, 221, 246, 220, 298, 314, 198, 192, 218, 216, 190, 251, 281, 204, 189, 183, 214, 261, 238, 184, 188, 195, 219, 206, \n",
      "\n",
      "\n",
      "------------------------實際結果------------------------\n",
      "欲淘汰數量： 300.0 輛\n",
      "節省 CO2 Emissions 加總：88110g/km\n",
      "節省 CO2 Emissions 平均：293.7g/km\n",
      "節省 CO2 Emissions 每年2114.8514640000003噸， 大約等於 11.19 公頃的樟樹固碳能力\n",
      "\n",
      "欲淘汰車輛之碳排明細：\n",
      "321, 374, 353, 325, 292, 325, 294, 364, 302, 311, 288, 346, 356, 465, 299, 364, 302, 299, 323, 317, 387, 301, 296, 271, 359, 368, 296, 392, 268, 270, 370, 353, 353, 303, 292, 323, 235, 292, 286, 344, 293, 323, 355, 357, 326, 363, 293, 286, 264, 256, 355, 349, 353, 297, 329, 345, 352, 352, 385, 366, 233, 287, 339, 352, 359, 352, 306, 353, 223, 354, 227, 354, 241, 314, 305, 252, 323, 241, 332, 262, 361, 364, 381, 297, 303, 215, 331, 314, 347, 327, 339, 323, 241, 243, 352, 304, 354, 280, 327, 336, 345, 260, 385, 329, 331, 337, 262, 310, 233, 327, 359, 345, 221, 302, 339, 354, 380, 358, 327, 332, 336, 345, 218, 218, 261, 313, 327, 332, 327, 345, 347, 326, 256, 317, 341, 321, 327, 332, 327, 345, 218, 262, 245, 341, 321, 314, 304, 385, 358, 362, 259, 230, 242, 304, 301, 305, 305, 326, 212, 281, 298, 263, 380, 347, 329, 304, 242, 359, 360, 239, 244, 221, 305, 305, 325, 253, 230, 231, 214, 381, 329, 327, 318, 323, 336, 331, 347, 252, 251, 262, 213, 237, 338, 330, 326, 328, 282, 210, 253, 296, 331, 253, 308, 252, 298, 254, 247, 275, 306, 328, 261, 230, 325, 267, 306, 321, 320, 267, 253, 300, 308, 310, 246, 331, 323, 395, 314, 317, 238, 239, 262, 273, 213, 219, 230, 212, 280, 219, 211, 298, 217, 232, 216, 242, 300, 211, 252, 259, 245, 213, 218, 249, 220, 211, 248, 226, 302, 211, 216, 289, 221, 275, 277, 291, 314, 231, 307, 325, 249, 323, 262, 254, 221, 224, 222, 211, 224, 247, 221, 246, 298, 314, 218, 222, 299, 216, 214, 246, 239, 251, 281, 241, 214, 261, 238, 216, 211, 220, 219, 213, \n",
      "\n",
      "\n",
      "每年 CO2 Emissions 節省量，實際與預測之誤差： 1.79%\n"
     ]
    }
   ],
   "source": [
    "print('------------------------預測結果------------------------')\n",
    "forcast = output_(df_formal, 'select', 'Predicted_CO2')\n",
    "    \n",
    "# 將報告保存為CSV文件\n",
    "df_combined.to_csv('FinalData_eliminated_cars_report.csv', index=False)\n",
    "\n",
    "print('\\n\\n------------------------實際結果------------------------')\n",
    "actual = output_(df_compare, 'Eliminated', 'CO2 Emissions(g/km)')\n",
    "\n",
    "print(f'\\n\\n每年 CO2 Emissions 節省量，實際與預測之誤差： { round(1 - forcast/actual, 4)*100}%') "
   ]
  },
  {
   "cell_type": "code",
   "execution_count": null,
   "metadata": {},
   "outputs": [],
   "source": []
  },
  {
   "cell_type": "code",
   "execution_count": null,
   "metadata": {},
   "outputs": [],
   "source": []
  }
 ],
 "metadata": {
  "kernelspec": {
   "display_name": "Python 3",
   "language": "python",
   "name": "python3"
  },
  "language_info": {
   "codemirror_mode": {
    "name": "ipython",
    "version": 3
   },
   "file_extension": ".py",
   "mimetype": "text/x-python",
   "name": "python",
   "nbconvert_exporter": "python",
   "pygments_lexer": "ipython3",
   "version": "3.8.3"
  }
 },
 "nbformat": 4,
 "nbformat_minor": 4
}
