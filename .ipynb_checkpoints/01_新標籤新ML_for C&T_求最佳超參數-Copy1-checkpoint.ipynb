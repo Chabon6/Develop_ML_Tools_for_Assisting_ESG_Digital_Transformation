{
 "cells": [
  {
   "cell_type": "markdown",
   "metadata": {},
   "source": [
    "# 讀取訓練集"
   ]
  },
  {
   "cell_type": "code",
   "execution_count": 1,
   "metadata": {},
   "outputs": [],
   "source": [
    "import pandas as pd # 資料處理 \n",
    "\n",
    "# 讀取資料\n",
    "df = pd.read_csv('1_Car_Curb_Weight_Training.csv') "
   ]
  },
  {
   "cell_type": "markdown",
   "metadata": {},
   "source": [
    "# K-means"
   ]
  },
  {
   "cell_type": "code",
   "execution_count": 2,
   "metadata": {},
   "outputs": [
    {
     "name": "stderr",
     "output_type": "stream",
     "text": [
      "D:\\Anaconda\\lib\\site-packages\\joblib\\externals\\loky\\backend\\context.py:136: UserWarning: Could not find the number of physical cores for the following reason:\n",
      "found 0 physical cores < 1\n",
      "Returning the number of logical cores instead. You can silence this warning by setting LOKY_MAX_CPU_COUNT to the number of cores you want to use.\n",
      "  warnings.warn(\n",
      "  File \"D:\\Anaconda\\lib\\site-packages\\joblib\\externals\\loky\\backend\\context.py\", line 282, in _count_physical_cores\n",
      "    raise ValueError(f\"found {cpu_count_physical} physical cores < 1\")\n"
     ]
    }
   ],
   "source": [
    "'''使機器自動辨別各資料間的關聯，再依可能較相關之資料群進行分群'''\n",
    "\n",
    "# ML套件\n",
    "from sklearn.cluster import KMeans\n",
    "\n",
    "def kmeans_(df):\n",
    "    \n",
    "    included = ['Engine Size(L)', 'Cylinders', 'weight']\n",
    "    X = df[included]\n",
    "\n",
    "    model = KMeans(n_clusters = 10, n_init='auto', random_state=1)  # 預計分為10群，迭代次數由模型自行定義\n",
    "    model.fit(X)  # 建立模型\n",
    "\n",
    "    df['Cluster'] = model.labels_  #將分類結果加回df\n",
    "    \n",
    "    return df\n",
    "\n",
    "# 將訓練資料進行分群，增加可學習特徵，以提高預測準確度\n",
    "df = kmeans_(df)"
   ]
  },
  {
   "cell_type": "markdown",
   "metadata": {},
   "source": [
    "# 模型訓練及驗證+學習曲線報告"
   ]
  },
  {
   "cell_type": "code",
   "execution_count": 3,
   "metadata": {},
   "outputs": [
    {
     "name": "stdout",
     "output_type": "stream",
     "text": [
      "Best Hyperparameters: {'colsample_bytree': 0.8, 'learning_rate': 0.2, 'max_depth': 12, 'n_estimators': 100, 'subsample': 0.7}\n",
      "Best Hyperparameters: {'colsample_bytree': 0.8, 'learning_rate': 0.2, 'max_depth': 11, 'n_estimators': 125, 'subsample': 0.8}\n",
      "Cross-Validation MAE Scores: [16.52777088 15.29307327 13.11917553 11.43786654 15.04002704]\n",
      "Mean of Cross-Validation MAE Scores: 14.283582653338845\n"
     ]
    },
    {
     "data": {
      "image/png": "[encoded data removed]",
      "text/plain": [
       "<Figure size 720x432 with 1 Axes>"
      ]
     },
     "metadata": {
      "needs_background": "light"
     },
     "output_type": "display_data"
    }
   ],
   "source": [
    "import xgboost as xgb\n",
    "from sklearn.model_selection import train_test_split, GridSearchCV, cross_val_score\n",
    "from sklearn.metrics import mean_absolute_error  # 使用MAE替換原本的mean_squared_error\n",
    "import matplotlib.pyplot as plt\n",
    "from sklearn.model_selection import learning_curve\n",
    "import numpy as np\n",
    "import pandas as pd\n",
    "import statsmodels.api as sm\n",
    "\n",
    "X = df[['Engine Size(L)', 'Cylinders', 'Cluster', 'weight']]\n",
    "y = df['CO2 Emissions(g/km)']\n",
    "\n",
    "def train_(X, y):\n",
    "    # 定義XGBoost模型\n",
    "    model = xgb.XGBRegressor()\n",
    "\n",
    "    # 定義超參數範圍\n",
    "    param_grid = {\n",
    "        'colsample_bytree': [0.7, 0.8, 0.9],\n",
    "        'learning_rate': [0.01, 0.1, 0.15, 0.2],\n",
    "        'max_depth': [10, 11, 12],\n",
    "        'n_estimators': [100, 125],\n",
    "        'subsample': [0.5, 0.6, 0.7, 0.8, 0.9]\n",
    "    }\n",
    "\n",
    "    # 使用Grid Search進行超參數調整\n",
    "    grid_search = GridSearchCV(estimator=model, param_grid=param_grid, scoring='neg_mean_absolute_error', cv=5)  # 使用MAE作為評估標準\n",
    "    grid_search.fit(X, y)\n",
    "\n",
    "    # 找到最佳超參數\n",
    "    best_params = grid_search.best_params_\n",
    "    print(\"Best Hyperparameters:\", best_params)\n",
    "    \n",
    "    return best_params\n",
    "\n",
    "'''第一階段訓練'''    \n",
    "best_params = train_(X, y)\n",
    "    \n",
    "# 使用最佳超參數建立模型\n",
    "best_model = xgb.XGBRegressor(**best_params)\n",
    "\n",
    "# 使用最佳超參數對完整的資料進行訓練\n",
    "best_model.fit(X, y)\n",
    "\n",
    "# 計算預測值\n",
    "y_pred = best_model.predict(X)\n",
    "\n",
    "'''學生化殘差，並刪除離群值'''\n",
    "# 使用statsmodels的OLSResults計算學生化殘差\n",
    "ols_results = sm.OLS(y - y_pred, sm.add_constant(X)).fit()\n",
    "ols_influence = ols_results.get_influence()\n",
    "studentized_residuals = ols_influence.resid_studentized_internal\n",
    "\n",
    "# 將學生化殘差添加到資料框\n",
    "df['Studentized_Residuals'] = studentized_residuals\n",
    "\n",
    "# 刪除學生化殘差超過正負2範圍的觀察值\n",
    "df_filtered = df[(df['Studentized_Residuals'] >= -2) & (df['Studentized_Residuals'] <= 2)]\n",
    "\n",
    "# 再次分割X和y\n",
    "X_filtered = df_filtered[['Engine Size(L)', 'Cylinders', 'Cluster', 'weight']]\n",
    "y_filtered = df_filtered['CO2 Emissions(g/km)']\n",
    "\n",
    "'''第二階段訓練'''    \n",
    "best_params = train_(X_filtered, y_filtered)\n",
    "\n",
    "# 使用最佳超參數建立模型\n",
    "best_model = xgb.XGBRegressor(**best_params)\n",
    "\n",
    "# 使用最佳超參數對完整的資料進行訓練\n",
    "best_model.fit(X_filtered, y_filtered)\n",
    "\n",
    "# 計算交叉驗證分數\n",
    "cv_scores = cross_val_score(best_model, X_filtered, y_filtered, cv=5, scoring='neg_mean_absolute_error')  # 使用MAE作為評估標準\n",
    "\n",
    "# 輸出交叉驗證分數\n",
    "print(\"Cross-Validation MAE Scores:\", -cv_scores)  # 注意這裡的負號，因為scikit-learn中的cross_val_score返回的是負的MAE\n",
    "print(\"Mean of Cross-Validation MAE Scores:\", np.mean(-cv_scores))\n",
    "\n",
    "# 繪製學習曲線\n",
    "train_sizes, train_scores, test_scores = learning_curve(best_model, X_filtered, y_filtered, cv=5, \n",
    "                                                        scoring='neg_mean_absolute_error', train_sizes=np.linspace(0.1, 1.0, 10))\n",
    "\n",
    "train_scores_mean = -np.mean(train_scores, axis=1)\n",
    "test_scores_mean = -np.mean(test_scores, axis=1)\n",
    "\n",
    "plt.figure(figsize=(10, 6))\n",
    "plt.plot(train_sizes, train_scores_mean, label='Training error')\n",
    "plt.plot(train_sizes, test_scores_mean, label='Cross-validation error')\n",
    "plt.title('Learning Curve')\n",
    "plt.xlabel('Training Examples')\n",
    "plt.ylabel('Negative Mean Absolute Error')\n",
    "plt.legend()\n",
    "plt.show()\n"
   ]
  },
  {
   "cell_type": "markdown",
   "metadata": {},
   "source": [
    "# 正式預測"
   ]
  },
  {
   "cell_type": "code",
   "execution_count": 6,
   "metadata": {},
   "outputs": [
    {
     "name": "stdout",
     "output_type": "stream",
     "text": [
      "1. Test R^2: 0.6878596918393085\n",
      "2. Test MAE: 25.952214416439386\n"
     ]
    },
    {
     "name": "stderr",
     "output_type": "stream",
     "text": [
      "D:\\Anaconda\\lib\\site-packages\\sklearn\\cluster\\_kmeans.py:1440: UserWarning: KMeans is known to have a memory leak on Windows with MKL, when there are less chunks than available threads. You can avoid it by setting the environment variable OMP_NUM_THREADS=4.\n",
      "  warnings.warn(\n"
     ]
    }
   ],
   "source": [
    "from sklearn.metrics import r2_score, mean_absolute_error\n",
    "\n",
    "# 讀取資料\n",
    "df_formal = pd.read_excel('車重合併一.xlsx')\n",
    "\n",
    "# 分群\n",
    "df_formal = kmeans_(df_formal)\n",
    "\n",
    "y_formal = df_formal['CO2 Emissions(g/km)']\n",
    "X_formal = df_formal[['Engine Size(L)', 'Cylinders', 'Cluster', 'weight']]\n",
    "\n",
    "# 最終資料集預測\n",
    "y_formal_pred = best_model.predict(X_formal)\n",
    "\n",
    "# 計算預測性能指標\n",
    "r2_formal = r2_score(y_formal, y_formal_pred)\n",
    "mae_formal = mean_absolute_error(y_formal, y_formal_pred)\n",
    "\n",
    "# 輸出預測性能指標\n",
    "print(\"1. Test R^2:\", r2_formal)\n",
    "print(\"2. Test MAE:\", mae_formal)\n",
    "\n",
    "# 新增預測值欄位到 DataFrame\n",
    "df_formal['Predicted_CO2'] = y_formal_pred"
   ]
  },
  {
   "cell_type": "code",
   "execution_count": null,
   "metadata": {},
   "outputs": [],
   "source": [
    "import matplotlib.pyplot as plt\n",
    "import seaborn as sns\n",
    "\n",
    "def residual_plot(df):\n",
    "    # 計算殘差\n",
    "    df['Residuals'] = df['CO2 Emissions(g/km)'] - df['Predicted_CO2']\n",
    "\n",
    "    # 設定圖形大小\n",
    "    plt.figure(figsize=(10, 6))\n",
    "\n",
    "    # 使用殘差圖比較預測差異\n",
    "    sns.scatterplot(x='CO2 Emissions(g/km)', y='Residuals', data=df)\n",
    "\n",
    "    # 添加標題和軸標籤\n",
    "    plt.title('Residual Plot: Difference between Actual and Predicted CO2 Emissions')\n",
    "    plt.xlabel('CO2 Emissions (g/km)')\n",
    "    plt.ylabel('Residuals')\n",
    "\n",
    "    # 添加水平線，觀察殘差的分佈情況\n",
    "    plt.axhline(y=0, color='red', linestyle='--', linewidth=2)\n",
    "\n",
    "    # 顯示圖形\n",
    "    plt.show()\n",
    "\n",
    "residual_plot(df_formal)"
   ]
  },
  {
   "cell_type": "code",
   "execution_count": null,
   "metadata": {},
   "outputs": [],
   "source": [
    "for percentage in[0.9, 0.8, 0.7]:\n",
    "    \n",
    "    num_samples_to_keep = int(len(df_formal) * percentage)\n",
    "\n",
    "    # 按照預測CO2的值進行排序，並保留前百分比的資料\n",
    "    df_subset = df_formal.sort_values(by='Predicted_CO2').tail(num_samples_to_keep)\n",
    "    residual_plot(df_subset)\n",
    "    \n",
    "    r2_formal = r2_score(df_subset['CO2 Emissions(g/km)'], df_subset['Predicted_CO2'])\n",
    "    print(\"2. Test R^2:\", r2_formal)"
   ]
  },
  {
   "cell_type": "code",
   "execution_count": null,
   "metadata": {},
   "outputs": [],
   "source": [
    "'''各XX前x%高碳排的汽車進行標籤，且最多標n台'''\n",
    "def filter1_find_eachTarget_front_Xpercent(df, target, x, n):  \n",
    "# x是希望抓各品牌前x%, n是希望淘汰數量\n",
    "    \n",
    "    # 計算每個 Make 的 CO2 emissions 的閾值\n",
    "    thresholds = df.groupby(target)['Predicted_CO2'].quantile(1-x/100)  #因碳排前高者為大數字，故從後面開始抓\n",
    "\n",
    "    # lambda定義一個拋棄式函數，將每個 Make 的後x% 設置為 1，其餘為 0\n",
    "    # 新增 To_Eliminate 欄位，標記後x% 為 1\n",
    "    df['To_Eliminate'] = df.apply(lambda row: 1 if row['Predicted_CO2'] >= thresholds[row[target]] else 0, axis=1)\n",
    "\n",
    "    \n",
    "    '''貪婪演算法函式，以免淘汰車輛超過指定數量輛n台'''\n",
    "    greedy(df, n)  \n",
    "    # 微調轉換數量上限，使得產出結果能大於100台，讓使用者自行決定不淘汰之車輛。\n",
    "\n",
    "\"\"\"    '''印出標籤明細'''\n",
    "    to_eliminate_rows = df[df['To_Eliminate'] == 1]\n",
    "    print(\"\\n標籤車輛之明細：\", )\n",
    "    for i in to_eliminate_rows['Predicted_CO2']:\n",
    "        print(i,end = ', ')\"\"\"\n",
    "        \n",
    "'''貪婪演算法，確保篩選數量在使用者規定內的同時，能最大化省碳效益'''\n",
    "def greedy(df, n):\n",
    "    # 計算\"To_Eliminate\"列中值為1的數量。To_Eliminate只有0跟1，1的sum就是有1的數量\n",
    "    count_to_determine = df['To_Eliminate'].sum()\n",
    "\n",
    "    # 如果數量超過100，則將最小的碳排車輛標籤轉換為0\n",
    "    n = int(n) # 剛剛好的話很容易因為誤差問題而少淘汰，故可以多淘汰而進一步篩選。\n",
    "    if count_to_determine > n:\n",
    "        \n",
    "        df_to_switch = df[df['To_Eliminate'] == 1]\n",
    "\n",
    "        # 根據 CO2 Emissions(g/km) 進行排序，選出最小的那幾輛\n",
    "        df_to_switch = df_to_switch.sort_values(by = 'CO2 Emissions(g/km)').head(count_to_determine - n)\n",
    "\n",
    "        # 將選出的To_Eliminate列的值轉換為 0\n",
    "        df.loc[df_to_switch.index, 'To_Eliminate'] = 0"
   ]
  },
  {
   "cell_type": "code",
   "execution_count": null,
   "metadata": {},
   "outputs": [],
   "source": [
    "selected_class = 'Make'\n",
    "percent_value = 0.1\n",
    "num_value = 100\n",
    "filter1_find_eachTarget_front_Xpercent(df_formal, selected_class, percent_value, num_value)"
   ]
  },
  {
   "cell_type": "code",
   "execution_count": null,
   "metadata": {},
   "outputs": [],
   "source": [
    "# 計算每個 Make 的 CO2 emissions 的閾值\n",
    "thresholds = df_formal.groupby(selected_class)['CO2 Emissions(g/km)'].quantile(int(1-float(percent_value)/100))  \n",
    "#因碳排前高者為大數字，故從後面開始抓\n",
    "\n",
    "# lambda定義一個拋棄式函數，將每個 Make 的後x% 設置為 1，其餘為 0\n",
    "# 新增 To_Eliminate 欄位，標記後x% 為 1\n",
    "df_formal['right_label'] = df_formal.apply(lambda row: \n",
    "                                           1 if row['CO2 Emissions(g/km)'] >= thresholds[row[selected_class]] \n",
    "                                           else 0, axis=1)\n",
    "\n",
    "    \n",
    "'''貪婪演算法函式，以免淘汰車輛超過指定數量輛n台'''\n",
    "# 計算\"To_Eliminate\"列中值為1的數量。To_Eliminate只有0跟1，1的sum就是有一個數量\n",
    "count_to_determine = df_formal['right_label'].sum()\n",
    "\n",
    "# 如果數量超過100，則將最小的碳排車輛標籤轉換為0\n",
    "n = len(df_formal[df_formal['To_Eliminate'] == 1]) # 剛剛好的話很容易因為誤差問題而少淘汰，故可以多淘汰而進一步篩選。\n",
    "if count_to_determine > n:\n",
    "        \n",
    "    df_to_switch = df_formal[df_formal['right_label'] == 1]\n",
    "\n",
    "    # 根據 CO2 Emissions(g/km) 進行排序，選出最小的那幾輛\n",
    "    df_to_switch = df_to_switch.sort_values(by = 'CO2 Emissions(g/km)').head(count_to_determine - n)\n",
    "\n",
    "    # 將選出的To_Eliminate列的值轉換為 0\n",
    "    df_formal.loc[df_to_switch.index, 'right_label'] = 0"
   ]
  },
  {
   "cell_type": "code",
   "execution_count": null,
   "metadata": {},
   "outputs": [],
   "source": [
    "from sklearn.metrics import  classification_report, confusion_matrix \n",
    "\n",
    "print('~Testing Report~\\n')\n",
    "\n",
    "# 與標籤相同之程度\n",
    "different_values_count = (df_formal['To_Eliminate'] != df_formal['right_label']).sum()\n",
    "print(f\"testing模型準確度: {round((1-(different_values_count)/len(df_formal))*100,3)}%\")\n",
    "\n",
    "# 混淆矩陣及分類報告\n",
    "print(\"Confusion Matrix:\\n\", confusion_matrix(df_formal['right_label'], df_formal['To_Eliminate']))  # 後為預測\n",
    "print(\"\\nClassification Report:\\n\", classification_report(df_formal['right_label'], df_formal['To_Eliminate']))"
   ]
  },
  {
   "cell_type": "code",
   "execution_count": null,
   "metadata": {},
   "outputs": [],
   "source": [
    "def output_(df, col):\n",
    "\n",
    "    # 计算 To_Eliminate 为 1 的项的 CO2 Emissions(g/km) 加总\n",
    "    Q_eliminate = df[col].sum()\n",
    "    sum_co2_to_eliminate = df.loc[df[col] == 1, 'CO2 Emissions(g/km)'].sum()\n",
    "    average_co2_to_eliminate = df.loc[df[col] == 1, 'CO2 Emissions(g/km)'].mean()\n",
    "    year_co2_to_eliminate = sum_co2_to_eliminate*41.1*1.6*365/1000000\n",
    "    \n",
    "    # 印出淘汰數量，節省加總，節省平均\n",
    "    print(\"欲淘汰數量：\", Q_eliminate,\"輛\"\n",
    "          f\"\\n節省 CO2 Emissions 加總：{sum_co2_to_eliminate}g/km\"\n",
    "          f\"\\n節省 CO2 Emissions 平均：{round(average_co2_to_eliminate, 2)}g/km\"\n",
    "          f\"\\n節省 CO2 Emissions 每年{year_co2_to_eliminate}噸，\",\n",
    "          f\"大約等於 {round(year_co2_to_eliminate/189, 2)} 公頃的樟樹固碳能力\")   \n",
    "            # 交通部統計：每次41.1km，每天1.6次 = 每年2.4萬公里\n",
    "\n",
    "    # 印出淘汰碳排明細\n",
    "    to_eliminate_rows = df[df[col] == 1]\n",
    "    print(\"\\n欲淘汰車輛之碳排明細：\", )\n",
    "    for i in to_eliminate_rows['CO2 Emissions(g/km)']:\n",
    "        print(i,end = ', ')\n",
    "    \n",
    "    # 將報告保存為CSV文件\n",
    "    df.to_csv('FinalData_eliminated_cars_report.csv', index=False)\n",
    "    print()\n",
    "    \n",
    "    return(year_co2_to_eliminate)"
   ]
  },
  {
   "cell_type": "code",
   "execution_count": null,
   "metadata": {},
   "outputs": [],
   "source": [
    "forcast = output_(df_formal, 'To_Eliminate')"
   ]
  },
  {
   "cell_type": "code",
   "execution_count": null,
   "metadata": {},
   "outputs": [],
   "source": [
    "actual = output_(df_formal, 'right_label')"
   ]
  },
  {
   "cell_type": "code",
   "execution_count": null,
   "metadata": {},
   "outputs": [],
   "source": [
    "print(f'每年節省 CO2 Emissions 預測誤差 { round(100 - forcast/actual*100, 2)}%') "
   ]
  },
  {
   "cell_type": "code",
   "execution_count": null,
   "metadata": {},
   "outputs": [],
   "source": []
  }
 ],
 "metadata": {
  "kernelspec": {
   "display_name": "Python 3",
   "language": "python",
   "name": "python3"
  },
  "language_info": {
   "codemirror_mode": {
    "name": "ipython",
    "version": 3
   },
   "file_extension": ".py",
   "mimetype": "text/x-python",
   "name": "python",
   "nbconvert_exporter": "python",
   "pygments_lexer": "ipython3",
   "version": "3.8.3"
  }
 },
 "nbformat": 4,
 "nbformat_minor": 4
}
