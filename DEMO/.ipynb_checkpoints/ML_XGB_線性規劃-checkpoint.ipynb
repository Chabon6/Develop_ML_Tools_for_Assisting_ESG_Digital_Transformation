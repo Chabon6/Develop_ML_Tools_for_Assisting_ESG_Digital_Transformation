{
 "cells": [
  {
   "cell_type": "markdown",
   "metadata": {},
   "source": [
    "# 前處理"
   ]
  },
  {
   "cell_type": "code",
   "execution_count": 1,
   "metadata": {},
   "outputs": [],
   "source": [
    "# 資料處理套件\n",
    "import pandas as pd\n",
    "\n",
    "# 讀取資料\n",
    "df_combined = pd.read_excel(r\"C:\\Users\\RYAN\\OneDrive\\桌面\\高管case\\curb_weight_bigdata_without2022.xlsx\") "
   ]
  },
  {
   "cell_type": "code",
   "execution_count": 2,
   "metadata": {},
   "outputs": [
    {
     "name": "stderr",
     "output_type": "stream",
     "text": [
      "D:\\Anaconda\\lib\\site-packages\\joblib\\externals\\loky\\backend\\context.py:136: UserWarning: Could not find the number of physical cores for the following reason:\n",
      "found 0 physical cores < 1\n",
      "Returning the number of logical cores instead. You can silence this warning by setting LOKY_MAX_CPU_COUNT to the number of cores you want to use.\n",
      "  warnings.warn(\n",
      "  File \"D:\\Anaconda\\lib\\site-packages\\joblib\\externals\\loky\\backend\\context.py\", line 282, in _count_physical_cores\n",
      "    raise ValueError(f\"found {cpu_count_physical} physical cores < 1\")\n"
     ]
    }
   ],
   "source": [
    "'''使機器自動辨別各資料間的關聯，再依可能較相關之資料群進行分群'''\n",
    "\n",
    "# ML套件\n",
    "from sklearn.cluster import KMeans\n",
    "\n",
    "def kmeans_(df):\n",
    "    \n",
    "    included = ['Engine Size(L)', 'Cylinders']\n",
    "    X = df[included]\n",
    "\n",
    "    model = KMeans(n_clusters = 5, n_init='auto', random_state=1)  # 預計分為5群，迭代次數由模型自行定義\n",
    "    model.fit(X)  # 建立模型\n",
    "\n",
    "    df['Cluster'] = model.labels_  #將分類結果加回df\n",
    "    \n",
    "    return df\n",
    "\n",
    "# 將訓練資料進行分群，增加可學習特徵，以提高預測準確度\n",
    "df_combined = kmeans_(df_combined)"
   ]
  },
  {
   "cell_type": "markdown",
   "metadata": {},
   "source": [
    "# Two-step Training and Fold-Validation"
   ]
  },
  {
   "cell_type": "code",
   "execution_count": 3,
   "metadata": {},
   "outputs": [],
   "source": [
    "import xgboost as xgb\n",
    "import numpy as np\n",
    "import statsmodels.api as sm  #學生化殘差\n",
    "\n",
    "'''第一階段訓練'''  \n",
    "\n",
    "best_params =  {'colsample_bytree': 0.8, 'learning_rate': 0.1, 'max_depth': 9, 'n_estimators': 100, 'subsample': 0.8}\n",
    "\n",
    "def training(df, best_params):  \n",
    "    global X, y\n",
    "    X = df[['Engine Size(L)', 'Cylinders', 'Cluster', 'weight']]\n",
    "    y = df['CO2 Emissions(g/km)']\n",
    "    \n",
    "    # 使用最佳超參數建立模型\n",
    "    best_model = xgb.XGBRegressor(**best_params)\n",
    "\n",
    "    # 使用最佳超參數對完整的資料進行訓練\n",
    "    best_model.fit(X, y)\n",
    "\n",
    "    # 使用最佳超參數對完整的資料進行訓練\n",
    "    return best_model\n",
    "\n",
    "\n",
    "best_model = training(df_combined, best_params)"
   ]
  },
  {
   "cell_type": "code",
   "execution_count": 4,
   "metadata": {},
   "outputs": [
    {
     "name": "stdout",
     "output_type": "stream",
     "text": [
      "Cross-Validation R^2 Scores: [0.85693629 0.85517714 0.84507672 0.86155178 0.86041229]\n",
      "Mean of Cross-Validation R^2 Scores: 0.8558308447004974\n",
      "MAE: 16.100817348705096\n"
     ]
    },
    {
     "data": {
      "image/png": "[encoded data removed]",
      "text/plain": [
       "<Figure size 432x288 with 1 Axes>"
      ]
     },
     "metadata": {
      "needs_background": "light"
     },
     "output_type": "display_data"
    }
   ],
   "source": [
    "import matplotlib.pyplot as plt\n",
    "from sklearn.model_selection import learning_curve, KFold, cross_val_score\n",
    "\n",
    "def plot_learning_curve_r2(estimator, title, X, y, ylim=None, cv=None, n_jobs=1, train_sizes=np.linspace(.1, 1.0, 5)):\n",
    "    plt.figure()\n",
    "    plt.title(title)\n",
    "    if ylim is not None:\n",
    "        plt.ylim(*ylim)\n",
    "    plt.xlabel(\"Training examples\")\n",
    "    plt.ylabel(\"R^2\")\n",
    "    train_sizes, train_scores, test_scores = learning_curve(\n",
    "        estimator, X, y, cv=cv, scoring='r2', n_jobs=n_jobs, train_sizes=train_sizes)\n",
    "    train_scores_mean = np.mean(train_scores, axis=1)\n",
    "    train_scores_std = np.std(train_scores, axis=1)\n",
    "    test_scores_mean = np.mean(test_scores, axis=1)\n",
    "    test_scores_std = np.std(test_scores, axis=1)\n",
    "    plt.grid()\n",
    "\n",
    "    plt.fill_between(train_sizes, train_scores_mean - train_scores_std,\n",
    "                     train_scores_mean + train_scores_std, alpha=0.1, color=\"#8737ED\")  # Purple color\n",
    "    plt.fill_between(train_sizes, test_scores_mean - test_scores_std,\n",
    "                     test_scores_mean + test_scores_std, alpha=0.1, color=\"#0091DA\")  # Blue color\n",
    "    plt.plot(train_sizes, train_scores_mean, 'o-', color=\"#8737ED\",  # Purple color\n",
    "             label=\"Training R^2\")\n",
    "    plt.plot(train_sizes, test_scores_mean, 'o-', color=\"#0091DA\",  # Blue color\n",
    "             label=\"Cross-validation R^2\")\n",
    "    \n",
    "    plt.legend(loc=\"lower right\")\n",
    "    return plt\n",
    "\n",
    "\n",
    "# 使用第二階段的最佳模型進行學習曲線繪製\n",
    "title_second_stage = \"Learning Curves (XGBoost)\"\n",
    "\n",
    "# 初始化交叉驗證\n",
    "cv = KFold(n_splits=5, shuffle=True, random_state=42)\n",
    "\n",
    "# 計算交叉驗證分數\n",
    "cv_scores = cross_val_score(best_model, X, y, cv=cv, scoring='r2')  # 使用R^2作為評估標準\n",
    "\n",
    "# 輸出交叉驗證分數\n",
    "print(\"Cross-Validation R^2 Scores:\", cv_scores)\n",
    "print(\"Mean of Cross-Validation R^2 Scores:\", np.mean(cv_scores))\n",
    "\n",
    "mae_scores = cross_val_score(best_model, X, y, cv=cv, scoring='neg_mean_absolute_error')\n",
    "# 將分數取平均，並取其相反數\n",
    "print('MAE:', -mae_scores.mean())\n",
    "\n",
    "plot_learning_curve_r2(best_model, title_second_stage, X, y, cv=cv, ylim=(0.0, 1.01), n_jobs=1)\n",
    "\n",
    "plt.show()\n"
   ]
  },
  {
   "cell_type": "markdown",
   "metadata": {},
   "source": [
    "# 正式Testing"
   ]
  },
  {
   "cell_type": "code",
   "execution_count": 5,
   "metadata": {},
   "outputs": [
    {
     "name": "stdout",
     "output_type": "stream",
     "text": [
      "上下限: {'SP': {'上限': '5', '下限': '0'}, 'PK': {'上限': '22', '下限': '14'}, 'SEAT': {'上限': '5', '下限': '0'}, 'Lux': {'上限': '0', '下限': '0'}, 'L': {'上限': '36', '下限': '28'}, 'M': {'上限': '34', '下限': '26'}, 'S': {'上限': '26', '下限': '17'}}\n",
      "目標淘汰數量: 100\n"
     ]
    }
   ],
   "source": [
    "'''使用者互動介面'''\n",
    "\n",
    "import tkinter as tk\n",
    "from tkinter import filedialog\n",
    "import pandas as pd\n",
    "\n",
    "class TickerApp:\n",
    "    def __init__(self, root):\n",
    "        self.root = root\n",
    "        self.root.title(\"碳排預測\")\n",
    "        self.root.geometry(\"400x400\")\n",
    "\n",
    "        self.current_page = 1\n",
    "        self.xls = None\n",
    "        self.file_path = None\n",
    "        self.TOTAL = None  # 新增全域變數 TOTAL\n",
    "\n",
    "        # 第一頁\n",
    "        self.page1_label = tk.Label(root, text=\"請上傳Excel檔案\")\n",
    "        self.page1_label.pack(pady=20)\n",
    "\n",
    "        self.upload_button = tk.Button(root, text=\"上傳檔案\", command=self.upload_file)\n",
    "        self.upload_button.pack(pady=10)\n",
    "\n",
    "        # 第二頁\n",
    "        self.page2_label = tk.Label(root, text=\"請設定上下限\")\n",
    "\n",
    "        # 新增使用者填寫方框\n",
    "        self.total_label = tk.Label(root, text=\"目標淘汰數量:\")\n",
    "        self.total_label.pack(pady=5)\n",
    "        self.total_entry = tk.Entry(root)\n",
    "        self.total_entry.pack(pady=5)\n",
    "\n",
    "        self.limits_entries = {}\n",
    "        self.back_button = tk.Button(root, text=\"上一步\", command=self.prev_page)\n",
    "\n",
    "    def upload_file(self):\n",
    "        self.file_path = filedialog.askopenfilename(filetypes=[(\"Excel files\", \"*.xlsx;*.xls\")])\n",
    "        global xls\n",
    "        try:\n",
    "            self.xls = pd.read_excel(self.file_path)\n",
    "            xls = pd.ExcelFile(self.file_path)\n",
    "            self.show_page2()\n",
    "        except pd.errors.ParserError:\n",
    "            self.show_error(\"error: 檔案格式錯誤\")\n",
    "\n",
    "    def show_page2(self):\n",
    "        if self.xls is not None:\n",
    "            self.page1_label.pack_forget()\n",
    "            self.upload_button.pack_forget()\n",
    "\n",
    "            self.page2_label.pack(pady=20)\n",
    "\n",
    "            for key in ['SP', 'PK', 'SEAT', 'Lux', 'L', 'M', 'S']:\n",
    "                frame = tk.Frame(self.root)\n",
    "                frame.pack(pady=5)\n",
    "\n",
    "                label_lower = tk.Label(frame, text=f\"{key} 下限:\")\n",
    "                label_lower.pack(side=tk.LEFT)\n",
    "                entry_lower = tk.Entry(frame)\n",
    "                entry_lower.pack(side=tk.LEFT)\n",
    "                self.limits_entries[f\"{key}_lower\"] = entry_lower\n",
    "\n",
    "                label_upper = tk.Label(frame, text=f\"{key} 上限:\")\n",
    "                label_upper.pack(side=tk.LEFT)\n",
    "                entry_upper = tk.Entry(frame)\n",
    "                entry_upper.pack(side=tk.LEFT)\n",
    "                self.limits_entries[f\"{key}_upper\"] = entry_upper\n",
    "\n",
    "            # 提交按鈕\n",
    "            self.submit_button = tk.Button(self.root, text=\"提交\", command=self.submit_limits)\n",
    "            self.submit_button.pack(pady=10)\n",
    "\n",
    "            self.current_page = 2\n",
    "        else:\n",
    "            self.show_error(\"請先上傳Excel檔案\")\n",
    "\n",
    "    def prev_page(self):\n",
    "        self.page2_label.pack_forget()\n",
    "        self.submit_button.pack_forget()  \n",
    "        self.page1_label.pack(pady=20)\n",
    "        self.upload_button.pack(pady=10)\n",
    "\n",
    "    def submit_limits(self):\n",
    "        # 條件判斷：每一個上限必須大於或等於下限\n",
    "        global limits_values, TOTAL\n",
    "        for key in ['SP', 'PK', 'SEAT', 'Lux', 'L', 'M', 'S']:\n",
    "            upper_limit = float(self.limits_entries[f\"{key}_upper\"].get())\n",
    "            lower_limit = float(self.limits_entries[f\"{key}_lower\"].get())\n",
    "            if upper_limit < lower_limit:\n",
    "                self.show_error(f\"{key} 上限必須大於或等於下限\")\n",
    "                return\n",
    "\n",
    "        # 新增將使用者填寫之數字傳到全域變數 TOTAL\n",
    "        try:\n",
    "            self.TOTAL = int(self.total_entry.get())\n",
    "        except ValueError:\n",
    "            self.show_error(\"目標淘汰數量應為整數\")\n",
    "            return\n",
    "        \n",
    "        TOTAL = self.TOTAL\n",
    "        limits_values = {key: {'上限': self.limits_entries[f\"{key}_upper\"].get(),\n",
    "                               '下限': self.limits_entries[f\"{key}_lower\"].get()} for key in ['SP', 'PK', \n",
    "                                                                                            'SEAT', 'Lux', 'L', 'M', 'S']}\n",
    "        print(\"上下限:\", limits_values)\n",
    "        print(\"目標淘汰數量:\", self.TOTAL)\n",
    "\n",
    "        # 回傳 file_path\n",
    "        self.root.destroy()\n",
    "\n",
    "    def show_error(self, message):\n",
    "        error_label = tk.Label(self.root, text=message, fg=\"red\")\n",
    "        error_label.pack(pady=10)\n",
    "\n",
    "if __name__ == \"__main__\":\n",
    "    root = tk.Tk()\n",
    "    app = TickerApp(root)\n",
    "    root.mainloop()\n"
   ]
  },
  {
   "cell_type": "code",
   "execution_count": 6,
   "metadata": {},
   "outputs": [],
   "source": [
    "'''以2022年，分類好的資料進行testing'''\n",
    "\n",
    "def input_preprocess(file_path):\n",
    "    # 讀取excel\n",
    "    sheets = xls.sheet_names\n",
    "\n",
    "    # 基於 '資料集' 工作表創建一個新的 df\n",
    "    df = pd.read_excel(xls, sheet_name='資料集')\n",
    "\n",
    "    for sheet in ['Special Purpose', 'Pickup', '2-seater', '豪車', 'Large', 'Medium', 'Small']:\n",
    "        # 將每個工作表的資料加入到 df 中，使用 1 和 0 表示是否在該工作表中\n",
    "        df[sheet] = (df['Model'].isin(xls.parse(sheet)['Model'])).astype(int)\n",
    "    \n",
    "    return df\n",
    "\n",
    "df_formal = input_preprocess(xls)"
   ]
  },
  {
   "cell_type": "code",
   "execution_count": 7,
   "metadata": {},
   "outputs": [
    {
     "name": "stdout",
     "output_type": "stream",
     "text": [
      "1. Test R^2: 0.7593465191256726\n",
      "2. Test MAE: 23.638075862828067\n"
     ]
    },
    {
     "name": "stderr",
     "output_type": "stream",
     "text": [
      "D:\\Anaconda\\lib\\site-packages\\sklearn\\cluster\\_kmeans.py:1440: UserWarning: KMeans is known to have a memory leak on Windows with MKL, when there are less chunks than available threads. You can avoid it by setting the environment variable OMP_NUM_THREADS=4.\n",
      "  warnings.warn(\n"
     ]
    }
   ],
   "source": [
    "from sklearn.metrics import r2_score, mean_absolute_error\n",
    "\n",
    "def predict_(df_formal, best_model):\n",
    "    \n",
    "    # 用 k-means 自動分群\n",
    "    df_formal = kmeans_(df_formal)\n",
    "    \n",
    "    X_formal = df_formal[['Engine Size(L)', 'Cylinders', 'Cluster', 'weight']]\n",
    "    y_formal = df_formal['CO2 Emissions(g/km)']\n",
    "\n",
    "    # 最終資料集預測\n",
    "    y_formal_pred = best_model.predict(X_formal)\n",
    "\n",
    "    # 計算及輸出預測性能指標\n",
    "    print(f\"1. Test R^2: {r2_score(y_formal, y_formal_pred)}\")\n",
    "    print(f\"2. Test MAE: {mean_absolute_error(y_formal, y_formal_pred)}\")\n",
    "\n",
    "    # 新增預測值欄位到 DataFrame\n",
    "    df_formal['Predicted_CO2'] = y_formal_pred\n",
    "\n",
    "    return df_formal\n",
    "\n",
    "# 分別用 car 跟 truck 的專屬 model 進行預測\n",
    "df_formal = predict_(df_formal, best_model)"
   ]
  },
  {
   "cell_type": "markdown",
   "metadata": {},
   "source": [
    "# 線性規劃"
   ]
  },
  {
   "cell_type": "code",
   "execution_count": 8,
   "metadata": {},
   "outputs": [],
   "source": [
    "from pulp import LpProblem, LpVariable, lpSum, LpMaximize, value\n",
    "\n",
    "def LN(df, co2COL, pickCOL):\n",
    "    # 將欄位名稱依序替換\n",
    "    df.rename(columns={\n",
    "        'Special Purpose': 'SP',\n",
    "        'Pickup': 'PK',\n",
    "        '2-seater': 'SEAT',\n",
    "        '豪車': 'Lux',\n",
    "        'Large': 'L',\n",
    "        'Medium': 'M',\n",
    "        'Small': 'S'\n",
    "    }, inplace=True)\n",
    "    \n",
    "    # 創建 PuLP 線性規劃模型\n",
    "    model = LpProblem(name=\"Maximize-CO2-Emissions\", sense=LpMaximize)\n",
    "\n",
    "    # 創建二元變數，表示每輛車是否被選中\n",
    "    selection_vars = [LpVariable(f'Selection_{i}', cat='Binary') for i in range(len(df))]\n",
    "    \n",
    "    # 限制式: 每一種類所挑選數量的限制\n",
    "    for key, limits in limits_values.items():\n",
    "        indices = list(df.index[df[key] == 1])\n",
    "        lower_limit = int(limits['下限'])\n",
    "        upper_limit = int(limits['上限'])\n",
    "        model += lpSum(selection_vars[i] for i in indices) >= lower_limit, f\"{key} lower limit\"\n",
    "        model += lpSum(selection_vars[i] for i in indices) <= upper_limit, f\"{key} upper limit\"\n",
    "\n",
    "    # 限制式: SP+PK+SEAT+L+M+S=100 (淘汰100台)\n",
    "    model += lpSum(selection_vars) == TOTAL, f\"Total {TOTAL} vehicles\"\n",
    "\n",
    "    # 目標式: 最大化 CO2 排放量\n",
    "    model += lpSum([df[co2COL][i] * selection_vars[i] for i in range(len(df))])\n",
    "\n",
    "    # 解決模型\n",
    "    model.solve()\n",
    "\n",
    "    # 將選中的車輛標記到新的 'select' 欄位中\n",
    "    df[pickCOL] = [round(value(var)) for var in selection_vars]\n",
    "    \n",
    "    return df"
   ]
  },
  {
   "cell_type": "code",
   "execution_count": 9,
   "metadata": {},
   "outputs": [],
   "source": [
    "df_formal = LN(df_formal, 'Predicted_CO2', 'select')\n",
    "\n",
    "df_compare = input_preprocess('Final_split_data.xlsx')\n",
    "df_compare = LN(df_compare, 'CO2 Emissions(g/km)', 'Eliminated')"
   ]
  },
  {
   "cell_type": "markdown",
   "metadata": {},
   "source": [
    "# testing之預測性能比較"
   ]
  },
  {
   "cell_type": "code",
   "execution_count": 10,
   "metadata": {},
   "outputs": [],
   "source": [
    "'''將預測產出df與直接產出df匹配後合併'''\n",
    "# 選擇用於匹配的欄位\n",
    "matching_columns = ['Make', 'Model', 'Vehicle Class', 'Engine Size(L)', 'Cylinders', 'Transmission']\n",
    "\n",
    "# 進行匹配\n",
    "merged_df = pd.merge(df_compare, df_formal, how='inner', on=matching_columns)"
   ]
  },
  {
   "cell_type": "code",
   "execution_count": 11,
   "metadata": {},
   "outputs": [
    {
     "name": "stdout",
     "output_type": "stream",
     "text": [
      "Confusion Matrix:\n",
      " [[799  47]\n",
      " [ 47  53]]\n",
      "\n",
      "Classification Report:\n",
      "               precision    recall  f1-score   support\n",
      "\n",
      "           0       0.94      0.94      0.94       846\n",
      "           1       0.53      0.53      0.53       100\n",
      "\n",
      "    accuracy                           0.90       946\n",
      "   macro avg       0.74      0.74      0.74       946\n",
      "weighted avg       0.90      0.90      0.90       946\n",
      "\n"
     ]
    }
   ],
   "source": [
    "from sklearn.metrics import confusion_matrix, precision_recall_fscore_support, classification_report\n",
    "\n",
    "# 提取真實情況和預測情況的欄資料\n",
    "y_true = merged_df['Eliminated']  \n",
    "y_pred = merged_df['select']\n",
    "\n",
    "# 混淆矩陣及分類報告\n",
    "print(\"Confusion Matrix:\\n\", confusion_matrix(df_compare['Eliminated'], df_formal['select']))  # 後為預測\n",
    "print(\"\\nClassification Report:\\n\", classification_report(df_compare['Eliminated'], df_formal['select']))"
   ]
  },
  {
   "cell_type": "code",
   "execution_count": 24,
   "metadata": {},
   "outputs": [],
   "source": [
    "def output_(df, col, co2):\n",
    "\n",
    "    # 計算 To_Eliminate 為 1 的 CO2 Emissions(g/km) 加總\n",
    "    Q_eliminate = df[col].sum()\n",
    "    sum_co2_to_eliminate = df.loc[df[col] == 1, co2].sum()\n",
    "    average_co2_to_eliminate = df.loc[df[col] == 1, co2].mean()\n",
    "    year_co2_to_eliminate = sum_co2_to_eliminate*41.1*1.6*365/1000000\n",
    "                # 交通部統計：每次41.1km，每天1.6次 = 每年2.4萬公里。g換算為噸。\n",
    "    \n",
    "    # 印出淘汰數量，節省加總，節省平均\n",
    "    print(\"欲淘汰數量：\", int(Q_eliminate),\"輛\"\n",
    "          f\"\\n節省 CO2 Emissions 加總：{int(sum_co2_to_eliminate)}g/km\"\n",
    "          f\"\\n節省 CO2 Emissions 平均：{round(average_co2_to_eliminate, 2)}g/km\"\n",
    "          f\"\\n節省 CO2 Emissions 每年{round(year_co2_to_eliminate, 2)}噸\")\n",
    "\n",
    "    # 印出淘汰碳排明細\n",
    "    to_eliminate_rows = df[df[col] == 1]\n",
    "    print(\"\\n欲淘汰車輛之碳排明細：\", )\n",
    "    for i in to_eliminate_rows['CO2 Emissions(g/km)']:\n",
    "        print(i,end = ', ')\n",
    "    \n",
    "    return(sum_co2_to_eliminate)"
   ]
  },
  {
   "cell_type": "code",
   "execution_count": 25,
   "metadata": {
    "scrolled": true
   },
   "outputs": [
    {
     "name": "stdout",
     "output_type": "stream",
     "text": [
      "\n",
      "-------------預測結果-------------\n",
      "欲淘汰數量： 100 輛\n",
      "節省 CO2 Emissions 加總：32122g/km\n",
      "節省 CO2 Emissions 平均：321.23g/km\n",
      "節省 CO2 Emissions 每年771.02噸\n",
      "\n",
      "欲淘汰車輛之碳排明細：\n",
      "279, 321, 189, 374, 353, 302, 311, 288, 346, 356, 465, 299, 364, 302, 323, 387, 301, 368, 296, 392, 268, 353, 353, 355, 326, 363, 264, 256, 355, 349, 353, 297, 329, 345, 352, 352, 385, 366, 287, 339, 352, 359, 352, 353, 227, 252, 219, 215, 331, 323, 241, 352, 354, 345, 260, 385, 329, 337, 233, 345, 345, 261, 327, 345, 256, 321, 345, 385, 362, 259, 305, 305, 212, 281, 325, 262, 330, 296, 261, 230, 325, 284, 320, 275, 300, 323, 273, 230, 280, 252, 259, 245, 218, 323, 247, 298, 314, 214, 238, 188, "
     ]
    }
   ],
   "source": [
    "print('\\n-------------預測結果-------------')\n",
    "forcast = output_(df_formal, 'select', 'Predicted_CO2')\n",
    "    \n",
    "# 將報告保存為CSV文件\n",
    "df_formal.to_csv('FinalData_eliminated_cars_report.csv', index=False)"
   ]
  },
  {
   "cell_type": "code",
   "execution_count": 26,
   "metadata": {},
   "outputs": [
    {
     "name": "stdout",
     "output_type": "stream",
     "text": [
      "\n",
      "\n",
      "------------------------實際結果------------------------\n",
      "欲淘汰數量： 100 輛\n",
      "節省 CO2 Emissions 加總：32756g/km\n",
      "節省 CO2 Emissions 平均：327.56g/km\n",
      "節省 CO2 Emissions 每年786.22噸\n",
      "\n",
      "欲淘汰車輛之碳排明細：\n",
      "374, 353, 364, 288, 346, 356, 465, 364, 302, 323, 387, 301, 296, 359, 368, 296, 392, 370, 353, 353, 292, 323, 235, 292, 293, 355, 357, 363, 293, 355, 349, 353, 352, 352, 385, 366, 233, 287, 339, 352, 359, 352, 353, 354, 354, 323, 361, 364, 381, 297, 303, 323, 241, 352, 354, 280, 336, 345, 260, 385, 337, 359, 339, 354, 380, 358, 336, 345, 261, 345, 256, 332, 345, 245, 385, 358, 362, 281, 380, 359, 360, 381, 336, 347, 237, 296, 247, 395, 280, 248, 277, 291, 247, 246, 298, 314, 246, 281, 261, 238, \n",
      "\n",
      "每年 CO2 Emissions 節省量，實際與預測之誤差： 1.93%\n"
     ]
    }
   ],
   "source": [
    "\n",
    "print('\\n\\n------------------------實際結果------------------------')\n",
    "actual = output_(df_compare, 'Eliminated', 'CO2 Emissions(g/km)')\n",
    "\n",
    "print(f'\\n\\n每年 CO2 Emissions 節省量，實際與預測之誤差： { round((1 - forcast/actual)*100, 2)}%') "
   ]
  },
  {
   "cell_type": "code",
   "execution_count": null,
   "metadata": {},
   "outputs": [],
   "source": []
  }
 ],
 "metadata": {
  "kernelspec": {
   "display_name": "Python 3",
   "language": "python",
   "name": "python3"
  },
  "language_info": {
   "codemirror_mode": {
    "name": "ipython",
    "version": 3
   },
   "file_extension": ".py",
   "mimetype": "text/x-python",
   "name": "python",
   "nbconvert_exporter": "python",
   "pygments_lexer": "ipython3",
   "version": "3.8.3"
  }
 },
 "nbformat": 4,
 "nbformat_minor": 4
}
