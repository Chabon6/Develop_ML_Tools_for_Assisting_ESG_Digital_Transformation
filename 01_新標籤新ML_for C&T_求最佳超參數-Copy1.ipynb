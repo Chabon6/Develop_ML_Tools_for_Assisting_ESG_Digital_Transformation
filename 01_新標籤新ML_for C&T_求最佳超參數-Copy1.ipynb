{
 "cells": [
  {
   "cell_type": "markdown",
   "metadata": {},
   "source": [
    "# 讀取訓練集"
   ]
  },
  {
   "cell_type": "code",
   "execution_count": 1,
   "metadata": {},
   "outputs": [],
   "source": [
    "# 資料處理套件\n",
    "import pandas as pd\n",
    "\n",
    "# 讀取資料\n",
    "df = pd.read_excel('curb_weight_bigdata.xlsx') "
   ]
  },
  {
   "cell_type": "markdown",
   "metadata": {},
   "source": [
    "# K-means"
   ]
  },
  {
   "cell_type": "code",
   "execution_count": 2,
   "metadata": {},
   "outputs": [
    {
     "name": "stderr",
     "output_type": "stream",
     "text": [
      "D:\\Anaconda\\lib\\site-packages\\joblib\\externals\\loky\\backend\\context.py:136: UserWarning: Could not find the number of physical cores for the following reason:\n",
      "found 0 physical cores < 1\n",
      "Returning the number of logical cores instead. You can silence this warning by setting LOKY_MAX_CPU_COUNT to the number of cores you want to use.\n",
      "  warnings.warn(\n",
      "  File \"D:\\Anaconda\\lib\\site-packages\\joblib\\externals\\loky\\backend\\context.py\", line 282, in _count_physical_cores\n",
      "    raise ValueError(f\"found {cpu_count_physical} physical cores < 1\")\n"
     ]
    }
   ],
   "source": [
    "'''使機器自動辨別各資料間的關聯，再依可能較相關之資料群進行分群'''\n",
    "\n",
    "# ML套件\n",
    "from sklearn.cluster import KMeans\n",
    "\n",
    "def kmeans_(df):\n",
    "    \n",
    "    included = ['Engine Size(L)', 'Cylinders']\n",
    "    X = df[included]\n",
    "\n",
    "    model = KMeans(n_clusters = 5, n_init='auto', random_state=1)  # 預計分為5群，迭代次數由模型自行定義\n",
    "    model.fit(X)  # 建立模型\n",
    "\n",
    "    df['Cluster'] = model.labels_  #將分類結果加回df\n",
    "    \n",
    "    return df\n",
    "\n",
    "# 將訓練資料進行分群，增加可學習特徵，以提高預測準確度\n",
    "df = kmeans_(df)"
   ]
  },
  {
   "cell_type": "markdown",
   "metadata": {},
   "source": [
    "# 模型訓練及驗證+學習曲線報告"
   ]
  },
  {
   "cell_type": "code",
   "execution_count": 9,
   "metadata": {},
   "outputs": [
    {
     "name": "stdout",
     "output_type": "stream",
     "text": [
      "Best Hyperparameters: {'colsample_bytree': 0.8, 'learning_rate': 0.1, 'max_depth': 10, 'n_estimators': 100, 'subsample': 0.9}\n"
     ]
    }
   ],
   "source": [
    "import xgboost as xgb\n",
    "from sklearn.model_selection import train_test_split, GridSearchCV, cross_val_score, KFold\n",
    "from sklearn.metrics import mean_absolute_error  # 使用MAE替換原本的mean_squared_error\n",
    "from sklearn.model_selection import learning_curve\n",
    "import numpy as np\n",
    "import pandas as pd\n",
    "import statsmodels.api as sm\n",
    "\n",
    "cv = KFold(n_splits=5, shuffle=True, random_state=42)\n",
    "\n",
    "'''尋找最佳超參數'''\n",
    "def find_best_hyper(X, y):\n",
    "    # 定義XGBoost模型\n",
    "    model = xgb.XGBRegressor()\n",
    "\n",
    "    # 定義超參數範圍\n",
    "    param_grid = {\n",
    "        'colsample_bytree': [ 0.7, 0.8, 0.9],\n",
    "        'learning_rate': [0.01, 0.1, 0.2],\n",
    "        'max_depth': [10, 11, 12],\n",
    "        'n_estimators': [100, 125],\n",
    "        'subsample': [0.8, 0.9]\n",
    "    }\n",
    "    # 使用Grid Search進行超參數調整\n",
    "    grid_search = GridSearchCV(estimator=model, param_grid=param_grid, scoring='r2', cv=cv)  # 使用R2作為評估標準\n",
    "    grid_search.fit(X, y)\n",
    "\n",
    "    # 找到最佳超參數\n",
    "    best_params = grid_search.best_params_\n",
    "    print(\"Best Hyperparameters:\", best_params)\n",
    "    \n",
    "    return best_params\n",
    "\n",
    "\n",
    "'''繪製學習曲線'''\n",
    "\n",
    "import matplotlib.pyplot as plt\n",
    "from sklearn.metrics import r2_score\n",
    "\n",
    "def plot_learning_curve_r2(estimator, title, X, y, ylim=None, cv=None, n_jobs=1, train_sizes=np.linspace(.1, 1.0, 5)):\n",
    "    plt.figure()\n",
    "    plt.title(title)\n",
    "    if ylim is not None:\n",
    "        plt.ylim(*ylim)\n",
    "    plt.xlabel(\"Training examples\")\n",
    "    plt.ylabel(\"R^2\")\n",
    "    train_sizes, train_scores, test_scores = learning_curve(\n",
    "        estimator, X, y, cv=cv, n_jobs=n_jobs, train_sizes=train_sizes, scoring='r2')\n",
    "    train_scores_mean = np.mean(train_scores, axis=1)\n",
    "    train_scores_std = np.std(train_scores, axis=1)\n",
    "    test_scores_mean = np.mean(test_scores, axis=1)\n",
    "    test_scores_std = np.std(test_scores, axis=1)\n",
    "    plt.grid()\n",
    "\n",
    "    plt.fill_between(train_sizes, train_scores_mean - train_scores_std,\n",
    "                     train_scores_mean + train_scores_std, alpha=0.1,\n",
    "                     color=\"#8737ED\")  # 使用新的顏色碼\n",
    "    plt.fill_between(train_sizes, test_scores_mean - test_scores_std,\n",
    "                     test_scores_mean + test_scores_std, alpha=0.1, color=\"#0091DA\")  # 使用新的顏色碼\n",
    "    plt.plot(train_sizes, train_scores_mean, 'o-', color=\"#8737ED\",  # 使用新的顏色碼\n",
    "             label=\"Training R^2\")\n",
    "    plt.plot(train_sizes, test_scores_mean, 'o-', color=\"#0091DA\",  # 使用新的顏色碼\n",
    "             label=\"Cross-validation R^2\")\n",
    "    \n",
    "    plt.legend(loc=\"best\")\n",
    "    return plt\n",
    "\n",
    "\n",
    "'''訓練'''    \n",
    "\n",
    "X = df[['Engine Size(L)', 'Cylinders', 'Cluster', 'weight']]\n",
    "y = df['CO2 Emissions(g/km)']\n",
    "\n",
    "best_params = find_best_hyper(X, y)\n",
    "    \n",
    "# 使用最佳超參數建立模型\n",
    "best_model = xgb.XGBRegressor(**best_params)\n",
    "\n",
    "# 使用最佳超參數對完整的資料進行訓練\n",
    "best_model.fit(X, y)\n",
    "\n",
    "# 計算預測值\n",
    "y_pred = best_model.predict(X) "
   ]
  },
  {
   "cell_type": "code",
   "execution_count": 10,
   "metadata": {},
   "outputs": [
    {
     "name": "stdout",
     "output_type": "stream",
     "text": [
      "Cross-Validation R^2 Scores: [0.8617114  0.86475797 0.87044111 0.87453344 0.85746284]\n",
      "Mean of Cross-Validation R^2 Scores: 0.865781351658797\n"
     ]
    },
    {
     "data": {
      "image/png": "[encoded data removed]",
      "text/plain": [
       "<Figure size 432x288 with 1 Axes>"
      ]
     },
     "metadata": {
      "needs_background": "light"
     },
     "output_type": "display_data"
    }
   ],
   "source": [
    "# 計算交叉驗證分數\n",
    "cv_scores = cross_val_score(best_model, X, y, cv=cv, scoring='r2')  # 使用R^2作為評估標準\n",
    "\n",
    "# 輸出交叉驗證分數\n",
    "print(\"Cross-Validation R^2 Scores:\", cv_scores)\n",
    "print(\"Mean of Cross-Validation R^2 Scores:\", np.mean(cv_scores))\n",
    "\n",
    "# 繪製學習曲線\n",
    "title_r2 = \"Learning Curves (XGBoost Regression)\"\n",
    "plot_learning_curve_r2(best_model, title_r2, X, y, cv=cv, ylim=(0.0, 1.01), n_jobs=1)\n",
    "\n",
    "plt.show()"
   ]
  },
  {
   "cell_type": "code",
   "execution_count": null,
   "metadata": {},
   "outputs": [],
   "source": []
  }
 ],
 "metadata": {
  "kernelspec": {
   "display_name": "Python 3",
   "language": "python",
   "name": "python3"
  },
  "language_info": {
   "codemirror_mode": {
    "name": "ipython",
    "version": 3
   },
   "file_extension": ".py",
   "mimetype": "text/x-python",
   "name": "python",
   "nbconvert_exporter": "python",
   "pygments_lexer": "ipython3",
   "version": "3.8.3"
  }
 },
 "nbformat": 4,
 "nbformat_minor": 4
}
